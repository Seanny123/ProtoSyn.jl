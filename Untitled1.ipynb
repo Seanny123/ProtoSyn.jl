{
 "cells": [
  {
   "cell_type": "code",
   "execution_count": 3,
   "metadata": {},
   "outputs": [
    {
     "name": "stdout",
     "output_type": "stream",
     "text": [
      "search: \u001b[0m\u001b[1mp\u001b[22m\u001b[0m\u001b[1mw\u001b[22m\u001b[0m\u001b[1md\u001b[22m \u001b[0m\u001b[1mp\u001b[22mo\u001b[0m\u001b[1mw\u001b[22mermo\u001b[0m\u001b[1md\u001b[22m\n",
      "\n"
     ]
    },
    {
     "data": {
      "text/latex": [
       "\\begin{verbatim}\n",
       "pwd() -> AbstractString\n",
       "\\end{verbatim}\n",
       "Get the current working directory.\n",
       "\n",
       "\\section{Examples}\n",
       "\\begin{verbatim}\n",
       "julia> pwd()\n",
       "\"/home/JuliaUser\"\n",
       "\n",
       "julia> cd(\"/home/JuliaUser/Projects/julia\")\n",
       "\n",
       "julia> pwd()\n",
       "\"/home/JuliaUser/Projects/julia\"\n",
       "\\end{verbatim}\n"
      ],
      "text/markdown": [
       "```\n",
       "pwd() -> AbstractString\n",
       "```\n",
       "\n",
       "Get the current working directory.\n",
       "\n",
       "# Examples\n",
       "\n",
       "```julia-repl\n",
       "julia> pwd()\n",
       "\"/home/JuliaUser\"\n",
       "\n",
       "julia> cd(\"/home/JuliaUser/Projects/julia\")\n",
       "\n",
       "julia> pwd()\n",
       "\"/home/JuliaUser/Projects/julia\"\n",
       "```\n"
      ],
      "text/plain": [
       "  \u001b[38;5;81mpwd\u001b[0m(\u001b[0m\u001b[39m)\u001b[0m \u001b[0m\u001b[38;5;197m->\u001b[0m \u001b[0m\u001b[39mAbstractString\u001b[0m\u001b[39m\u001b[0m\n",
       "\n",
       "\n",
       "  Get the current working directory.\n",
       "\n",
       "\u001b[1m  Examples\u001b[22m\n",
       "\u001b[1m  ≡≡≡≡≡≡≡≡≡≡\u001b[22m\n",
       "\n",
       "  \u001b[31;1mjulia> \u001b[0m\u001b[38;5;81mpwd\u001b[0m(\u001b[0m\u001b[39m)\u001b[0m\n",
       "  \u001b[0m\u001b[39m\u001b[0m\"/home/JuliaUser\"\n",
       "  \n",
       "  \u001b[31;1mjulia> \u001b[0m\u001b[38;5;81mcd\u001b[0m(\u001b[0m\u001b[38;5;208m\"/home/JuliaUser/Projects/julia\"\u001b[0m\u001b[39m)\u001b[0m\n",
       "  \u001b[0m\u001b[39m\u001b[0m\n",
       "  \u001b[31;1mjulia> \u001b[0m\u001b[38;5;81mpwd\u001b[0m(\u001b[0m\u001b[39m)\u001b[0m\n",
       "  \u001b[0m\u001b[39m\u001b[0m\"/home/JuliaUser/Projects/julia\"\n"
      ]
     },
     "execution_count": 3,
     "metadata": {},
     "output_type": "execute_result"
    }
   ],
   "source": [
    "\n",
    "?pwd"
   ]
  },
  {
   "cell_type": "code",
   "execution_count": 4,
   "metadata": {},
   "outputs": [
    {
     "name": "stdout",
     "output_type": "stream",
     "text": [
      "search: \u001b[0m\u001b[1mc\u001b[22m\u001b[0m\u001b[1ma\u001b[22m\u001b[0m\u001b[1mt\u001b[22m \u001b[0m\u001b[1mc\u001b[22m\u001b[0m\u001b[1ma\u001b[22m\u001b[0m\u001b[1mt\u001b[22mch \u001b[0m\u001b[1mc\u001b[22m\u001b[0m\u001b[1ma\u001b[22m\u001b[0m\u001b[1mt\u001b[22mch_backtrace v\u001b[0m\u001b[1mc\u001b[22m\u001b[0m\u001b[1ma\u001b[22m\u001b[0m\u001b[1mt\u001b[22m h\u001b[0m\u001b[1mc\u001b[22m\u001b[0m\u001b[1ma\u001b[22m\u001b[0m\u001b[1mt\u001b[22m hv\u001b[0m\u001b[1mc\u001b[22m\u001b[0m\u001b[1ma\u001b[22m\u001b[0m\u001b[1mt\u001b[22m \u001b[0m\u001b[1mC\u001b[22m\u001b[0m\u001b[1ma\u001b[22mr\u001b[0m\u001b[1mt\u001b[22mesianIndex\n",
      "\n"
     ]
    },
    {
     "data": {
      "text/latex": [
       "\\begin{verbatim}\n",
       "cat(A...; dims=dims)\n",
       "\\end{verbatim}\n",
       "Concatenate the input arrays along the specified dimensions in the iterable \\texttt{dims}. For dimensions not in \\texttt{dims}, all input arrays should have the same size, which will also be the size of the output array along that dimension. For dimensions in \\texttt{dims}, the size of the output array is the sum of the sizes of the input arrays along that dimension. If \\texttt{dims} is a single number, the different arrays are tightly stacked along that dimension. If \\texttt{dims} is an iterable containing several dimensions, this allows one to construct block diagonal matrices and their higher-dimensional analogues by simultaneously increasing several dimensions for every new input array and putting zero blocks elsewhere. For example, \\texttt{cat(matrices...; dims=(1,2))} builds a block diagonal matrix, i.e. a block matrix with \\texttt{matrices[1]}, \\texttt{matrices[2]}, ... as diagonal blocks and matching zero blocks away from the diagonal.\n",
       "\n"
      ],
      "text/markdown": [
       "```\n",
       "cat(A...; dims=dims)\n",
       "```\n",
       "\n",
       "Concatenate the input arrays along the specified dimensions in the iterable `dims`. For dimensions not in `dims`, all input arrays should have the same size, which will also be the size of the output array along that dimension. For dimensions in `dims`, the size of the output array is the sum of the sizes of the input arrays along that dimension. If `dims` is a single number, the different arrays are tightly stacked along that dimension. If `dims` is an iterable containing several dimensions, this allows one to construct block diagonal matrices and their higher-dimensional analogues by simultaneously increasing several dimensions for every new input array and putting zero blocks elsewhere. For example, `cat(matrices...; dims=(1,2))` builds a block diagonal matrix, i.e. a block matrix with `matrices[1]`, `matrices[2]`, ... as diagonal blocks and matching zero blocks away from the diagonal.\n"
      ],
      "text/plain": [
       "  \u001b[38;5;81mcat\u001b[0m(\u001b[0m\u001b[39mA\u001b[0m\u001b[38;5;197m...\u001b[0m\u001b[39m;\u001b[0m \u001b[0m\u001b[39mdims\u001b[0m\u001b[38;5;197m=\u001b[0m\u001b[39mdims\u001b[0m\u001b[39m)\u001b[0m\u001b[39m\u001b[0m\n",
       "\n",
       "\n",
       "  Concatenate the input arrays along the specified dimensions in the iterable\n",
       "  \u001b[36mdims\u001b[39m. For dimensions not in \u001b[36mdims\u001b[39m, all input arrays should have the same\n",
       "  size, which will also be the size of the output array along that dimension.\n",
       "  For dimensions in \u001b[36mdims\u001b[39m, the size of the output array is the sum of the sizes\n",
       "  of the input arrays along that dimension. If \u001b[36mdims\u001b[39m is a single number, the\n",
       "  different arrays are tightly stacked along that dimension. If \u001b[36mdims\u001b[39m is an\n",
       "  iterable containing several dimensions, this allows one to construct block\n",
       "  diagonal matrices and their higher-dimensional analogues by simultaneously\n",
       "  increasing several dimensions for every new input array and putting zero\n",
       "  blocks elsewhere. For example, \u001b[36mcat(matrices...; dims=(1,2))\u001b[39m builds a block\n",
       "  diagonal matrix, i.e. a block matrix with \u001b[36mmatrices[1]\u001b[39m, \u001b[36mmatrices[2]\u001b[39m, ... as\n",
       "  diagonal blocks and matching zero blocks away from the diagonal."
      ]
     },
     "execution_count": 4,
     "metadata": {},
     "output_type": "execute_result"
    }
   ],
   "source": [
    "?cat"
   ]
  },
  {
   "cell_type": "code",
   "execution_count": 5,
   "metadata": {},
   "outputs": [
    {
     "data": {
      "text/latex": [
       "Unrecognized magic \\texttt{\\%lstat}.\n",
       "\n",
       "Julia does not use the IPython \\texttt{\\%magic} syntax.   To interact with the IJulia kernel, use \\texttt{IJulia.somefunction(...)}, for example.  Julia macros, string macros, and functions can be used to accomplish most of the other functionalities of IPython magics.\n",
       "\n"
      ],
      "text/markdown": [
       "Unrecognized magic `%lstat`.\n",
       "\n",
       "Julia does not use the IPython `%magic` syntax.   To interact with the IJulia kernel, use `IJulia.somefunction(...)`, for example.  Julia macros, string macros, and functions can be used to accomplish most of the other functionalities of IPython magics.\n"
      ],
      "text/plain": [
       "  Unrecognized magic \u001b[36m%lstat\u001b[39m.\n",
       "\n",
       "  Julia does not use the IPython \u001b[36m%magic\u001b[39m syntax. To interact with the IJulia\n",
       "  kernel, use \u001b[36mIJulia.somefunction(...)\u001b[39m, for example. Julia macros, string\n",
       "  macros, and functions can be used to accomplish most of the other\n",
       "  functionalities of IPython magics."
      ]
     },
     "metadata": {},
     "output_type": "display_data"
    }
   ],
   "source": [
    "%lstat"
   ]
  },
  {
   "cell_type": "code",
   "execution_count": 6,
   "metadata": {},
   "outputs": [
    {
     "data": {
      "text/plain": [
       "#58 (generic function with 1 method)"
      ]
     },
     "execution_count": 6,
     "metadata": {},
     "output_type": "execute_result"
    }
   ],
   "source": [
    "!lstat"
   ]
  },
  {
   "cell_type": "code",
   "execution_count": 11,
   "metadata": {},
   "outputs": [
    {
     "ename": "LoadError",
     "evalue": "syntax: unexpected \";\"",
     "output_type": "error",
     "traceback": [
      "syntax: unexpected \";\"",
      ""
     ]
    }
   ],
   "source": [
    "a=;ls"
   ]
  },
  {
   "cell_type": "code",
   "execution_count": 1,
   "metadata": {},
   "outputs": [
    {
     "name": "stdout",
     "output_type": "stream",
     "text": [
      "search: \u001b[0m\u001b[1mp\u001b[22m\u001b[0m\u001b[1mw\u001b[22m\u001b[0m\u001b[1md\u001b[22m \u001b[0m\u001b[1mp\u001b[22mo\u001b[0m\u001b[1mw\u001b[22mermo\u001b[0m\u001b[1md\u001b[22m\n",
      "\n"
     ]
    },
    {
     "data": {
      "text/latex": [
       "\\begin{verbatim}\n",
       "pwd() -> AbstractString\n",
       "\\end{verbatim}\n",
       "Get the current working directory.\n",
       "\n",
       "\\section{Examples}\n",
       "\\begin{verbatim}\n",
       "julia> pwd()\n",
       "\"/home/JuliaUser\"\n",
       "\n",
       "julia> cd(\"/home/JuliaUser/Projects/julia\")\n",
       "\n",
       "julia> pwd()\n",
       "\"/home/JuliaUser/Projects/julia\"\n",
       "\\end{verbatim}\n"
      ],
      "text/markdown": [
       "```\n",
       "pwd() -> AbstractString\n",
       "```\n",
       "\n",
       "Get the current working directory.\n",
       "\n",
       "# Examples\n",
       "\n",
       "```julia-repl\n",
       "julia> pwd()\n",
       "\"/home/JuliaUser\"\n",
       "\n",
       "julia> cd(\"/home/JuliaUser/Projects/julia\")\n",
       "\n",
       "julia> pwd()\n",
       "\"/home/JuliaUser/Projects/julia\"\n",
       "```\n"
      ],
      "text/plain": [
       "  \u001b[38;5;81mpwd\u001b[0m(\u001b[0m\u001b[39m)\u001b[0m \u001b[0m\u001b[38;5;197m->\u001b[0m \u001b[0m\u001b[39mAbstractString\u001b[0m\u001b[39m\u001b[0m\n",
       "\n",
       "\n",
       "  Get the current working directory.\n",
       "\n",
       "\u001b[1m  Examples\u001b[22m\n",
       "\u001b[1m  ≡≡≡≡≡≡≡≡≡≡\u001b[22m\n",
       "\n",
       "  \u001b[31;1mjulia> \u001b[0m\u001b[38;5;81mpwd\u001b[0m(\u001b[0m\u001b[39m)\u001b[0m\n",
       "  \u001b[0m\u001b[39m\u001b[0m\"/home/JuliaUser\"\n",
       "  \n",
       "  \u001b[31;1mjulia> \u001b[0m\u001b[38;5;81mcd\u001b[0m(\u001b[0m\u001b[38;5;208m\"/home/JuliaUser/Projects/julia\"\u001b[0m\u001b[39m)\u001b[0m\n",
       "  \u001b[0m\u001b[39m\u001b[0m\n",
       "  \u001b[31;1mjulia> \u001b[0m\u001b[38;5;81mpwd\u001b[0m(\u001b[0m\u001b[39m)\u001b[0m\n",
       "  \u001b[0m\u001b[39m\u001b[0m\"/home/JuliaUser/Projects/julia\"\n"
      ]
     },
     "execution_count": 1,
     "metadata": {},
     "output_type": "execute_result"
    }
   ],
   "source": [
    "?pwd"
   ]
  },
  {
   "cell_type": "code",
   "execution_count": 13,
   "metadata": {},
   "outputs": [
    {
     "name": "stdout",
     "output_type": "stream",
     "text": [
      "HOST: http://localhost\n",
      "PORT: 9123\n",
      "URL: http://localhost:9123\n"
     ]
    },
    {
     "name": "stderr",
     "output_type": "stream",
     "text": [
      "WARNING: replacing module Tst.\n"
     ]
    },
    {
     "data": {
      "text/plain": [
       "Main.Tst"
      ]
     },
     "execution_count": 13,
     "metadata": {},
     "output_type": "execute_result"
    }
   ],
   "source": [
    "include(\"test/xmlrpc.jl\")"
   ]
  },
  {
   "cell_type": "code",
   "execution_count": 16,
   "metadata": {},
   "outputs": [],
   "source": [
    "Tst.proxy.as(\"cartoon\");"
   ]
  },
  {
   "cell_type": "code",
   "execution_count": 15,
   "metadata": {},
   "outputs": [
    {
     "data": {
      "text/plain": [
       "HTTP.Messages.Response:\n",
       "\"\"\"\n",
       "HTTP/1.0 200 OK\r\n",
       "Server: BaseHTTP/0.3 Python/2.7.13\r\n",
       "Date: Tue, 08 Oct 2019 10:16:52 GMT\r\n",
       "Content-type: text/xml\r\n",
       "Content-length: 130\r\n",
       "\r\n",
       "<?xml version='1.0'?>\n",
       "<methodResponse>\n",
       "<params>\n",
       "<param>\n",
       "<value><string>1ctf</string></value>\n",
       "</param>\n",
       "</params>\n",
       "</methodResponse>\n",
       "\"\"\""
      ]
     },
     "execution_count": 15,
     "metadata": {},
     "output_type": "execute_result"
    }
   ],
   "source": [
    "Tst.proxy.fetch(\"1ctf\")"
   ]
  },
  {
   "cell_type": "code",
   "execution_count": 17,
   "metadata": {},
   "outputs": [
    {
     "data": {
      "text/plain": [
       "@pymol (macro with 1 method)"
      ]
     },
     "execution_count": 17,
     "metadata": {},
     "output_type": "execute_result"
    }
   ],
   "source": [
    "macro pymol(objname, ex)\n",
    "    return quote\n",
    "        local val = $(esc(ex))\n",
    "        if val isa ProtoSyn.State\n",
    "            proxy.load_coordset(val.coords, $(esc(objname)), 0)\n",
    "        end\n",
    "        val\n",
    "    end\n",
    "end"
   ]
  },
  {
   "cell_type": "code",
   "execution_count": null,
   "metadata": {},
   "outputs": [],
   "source": [
    "@pymol"
   ]
  }
 ],
 "metadata": {
  "kernelspec": {
   "display_name": "Julia 1.1.0",
   "language": "julia",
   "name": "julia-1.1"
  },
  "language_info": {
   "file_extension": ".jl",
   "mimetype": "application/julia",
   "name": "julia",
   "version": "1.1.0"
  }
 },
 "nbformat": 4,
 "nbformat_minor": 2
}
