{
 "cells": [
  {
   "cell_type": "code",
   "execution_count": 32,
   "metadata": {},
   "outputs": [
    {
     "name": "stderr",
     "output_type": "stream",
     "text": [
      "┌ Info: Recompiling stale cache file /Users/ssantos/.julia/compiled/v1.1/ProtoSyn/8FAXX.ji for ProtoSyn [c9758760-7c0d-11e9-0ffc-fb9355b7d293]\n",
      "└ @ Base loading.jl:1184\n",
      "┌ Warning: Package ProtoSyn does not have LinearAlgebra in its dependencies:\n",
      "│ - If you have ProtoSyn checked out for development and have\n",
      "│   added LinearAlgebra as a dependency but haven't updated your primary\n",
      "│   environment's manifest file, try `Pkg.resolve()`.\n",
      "│ - Otherwise you may need to report an issue with ProtoSyn\n",
      "└ Loading LinearAlgebra into ProtoSyn from project dependency, future warnings for ProtoSyn are suppressed.\n",
      "WARNING: Method definition get(ProtoSyn.Residue, AbstractString, Any) in module ProtoSyn at /Users/ssantos/Dropbox/dev/ProtoSyn3.jl/src/core/base.jl:28 overwritten at /Users/ssantos/Dropbox/dev/ProtoSyn3.jl/src/core/base.jl:31.\n",
      "WARNING: Method definition write(IO, ProtoSyn.Molecule, ProtoSyn.State{T} where T<:AbstractFloat, Type{Base.Val{2}}) in module ProtoSyn at /Users/ssantos/Dropbox/dev/ProtoSyn3.jl/src/core/io.jl:13 overwritten at /Users/ssantos/Dropbox/dev/ProtoSyn3.jl/src/core/io.jl:51.\n"
     ]
    },
    {
     "data": {
      "text/plain": [
       "\"/Users/ssantos/.julia/compiled/v1.1/ProtoSyn/8FAXX.ji\""
      ]
     },
     "execution_count": 32,
     "metadata": {},
     "output_type": "execute_result"
    }
   ],
   "source": [
    "Base.compilecache(Base.PkgId(ProtoSyn))"
   ]
  },
  {
   "cell_type": "code",
   "execution_count": 33,
   "metadata": {},
   "outputs": [],
   "source": [
    "using ProtoSyn"
   ]
  },
  {
   "cell_type": "markdown",
   "metadata": {},
   "source": [
    "# Creating a residue\n",
    "\n",
    "A residue is a named list of atoms `ProtoSyn.Atom[]` and connectivity graph `ProtoSyn.ConnectGraph`or `ProtoSyn.ConnectGraphByName`.\n",
    "\n",
    "Example:"
   ]
  },
  {
   "cell_type": "code",
   "execution_count": 51,
   "metadata": {},
   "outputs": [
    {
     "data": {
      "text/plain": [
       "5-atom Residue:\n",
       "   name = BKB\n",
       "  atoms = 5-element array\n",
       "  bonds = 5-element dict"
      ]
     },
     "execution_count": 51,
     "metadata": {},
     "output_type": "execute_result"
    }
   ],
   "source": [
    "residue = ProtoSyn.Residue(\n",
    "    \"BKB\",\n",
    "    [\n",
    "        Atom( 1,    \"H\",    \"H\",    3.909/10,    0.724/10,    0.000),\n",
    "        Atom( 2,    \"N\",    \"N\",    3.326/10,    1.548/10,    0.000),\n",
    "        Atom( 3,    \"C\",   \"CA\",    3.970/10,    2.846/10,    0.000),\n",
    "        Atom( 4,    \"C\",    \"C\",    5.486/10,    2.705/10,    0.000),\n",
    "        Atom( 5,    \"O\",    \"O\",    6.009/10,    1.593/10,    0.000)\n",
    "    ],\n",
    "    ConnectGraph(\n",
    "        1  => [    2 ],\n",
    "        2  => [    1,    3 ],\n",
    "        3  => [    2,    4 ],\n",
    "        4  => [    3,    5 ],\n",
    "        5  => [    4 ]\n",
    "    )\n",
    ")"
   ]
  },
  {
   "cell_type": "code",
   "execution_count": 52,
   "metadata": {},
   "outputs": [
    {
     "data": {
      "text/plain": [
       "5-element Array{ProtoSyn._Atom{Residue},1}:\n",
       " Atom:\n",
       "     id = 1\n",
       "   name = H\n",
       " symbol = H\n",
       " parent = BKB \n",
       " Atom:\n",
       "     id = 2\n",
       "   name = N\n",
       " symbol = N\n",
       " parent = BKB \n",
       " Atom:\n",
       "     id = 3\n",
       "   name = CA\n",
       " symbol = C\n",
       " parent = BKB\n",
       " Atom:\n",
       "     id = 4\n",
       "   name = C\n",
       " symbol = C\n",
       " parent = BKB \n",
       " Atom:\n",
       "     id = 5\n",
       "   name = O\n",
       " symbol = O\n",
       " parent = BKB "
      ]
     },
     "execution_count": 52,
     "metadata": {},
     "output_type": "execute_result"
    }
   ],
   "source": [
    "residue.atoms"
   ]
  },
  {
   "cell_type": "markdown",
   "metadata": {},
   "source": [
    "# Residue Library\n",
    "\n",
    "A residue library is a dictionary of resname=>residue (`Dict{String,Residue}`)\n",
    "\n",
    "Example:"
   ]
  },
  {
   "cell_type": "code",
   "execution_count": 53,
   "metadata": {},
   "outputs": [
    {
     "data": {
      "text/plain": [
       "5-atom Residue:\n",
       "   name = BKB\n",
       "  atoms = 5-element array\n",
       "  bonds = 5-element dict"
      ]
     },
     "execution_count": 53,
     "metadata": {},
     "output_type": "execute_result"
    }
   ],
   "source": [
    "lib = ProtoSyn.ResidueLib()\n",
    "lib[residue.name] = residue\n",
    "# or \n",
    "# ProtoSyn.ResidueLib(residue.name => residue)"
   ]
  },
  {
   "cell_type": "markdown",
   "metadata": {},
   "source": [
    "# Linked Residue\n",
    "\n",
    "A residue is a template for constructing molecules. An instance of\n",
    "residue within a molecule happens through instantiation of a `ProtoSyn.LinkedResidue`,\n",
    "having a `ProtoSyn.Residue` as its source. Hence, a residue can be used multiple times\n",
    "(remember: it is a simple template).\n",
    "A LinkedResidue has an id, a source, and can have multiple links (`Link`) to\n",
    "other (multiple) linked residues.\n",
    "\n",
    "Example:\n",
    "two LinkedResidue(s) of type BKB (not linked to each other)"
   ]
  },
  {
   "cell_type": "code",
   "execution_count": 54,
   "metadata": {},
   "outputs": [
    {
     "data": {
      "text/plain": [
       "5-atom LinkedResidue:\n",
       "      id = 2\n",
       "  source = BKB\n",
       "  offset = 0\n",
       "   links = 0-element array"
      ]
     },
     "execution_count": 54,
     "metadata": {},
     "output_type": "execute_result"
    }
   ],
   "source": [
    "lr1 = ProtoSyn.LinkedResidue(id=1, source=residue)\n",
    "lr2 = ProtoSyn.LinkedResidue(id=2, source=residue)"
   ]
  },
  {
   "cell_type": "markdown",
   "metadata": {},
   "source": [
    "# Molecule\n",
    "\n",
    "\n",
    "A molecule is a list of linked residues (`LinkedResidue[]`) and a\n",
    "list of links (`Link[]`) linking those residues. Nevertheless, links \n",
    "between linked residues are not mandatory (may be changed in the future).\n",
    "\n",
    "Whenever bulding, or changing, a molecule, the `ProtoSyn.update!` function must be called.\n",
    "This ensures internal consistency of the `Molecule` data structures.\n",
    "\n",
    "### Example:"
   ]
  },
  {
   "cell_type": "code",
   "execution_count": 55,
   "metadata": {},
   "outputs": [
    {
     "name": "stdout",
     "output_type": "stream",
     "text": [
      "molecule is coherent? true\n"
     ]
    }
   ],
   "source": [
    "mol = ProtoSyn.Molecule(residues=[lr1, lr2])\n",
    "ProtoSyn.update!(mol)\n",
    "println(\"molecule is coherent? \", mol.coherent)"
   ]
  },
  {
   "cell_type": "markdown",
   "metadata": {},
   "source": [
    "### list connectivity graph:"
   ]
  },
  {
   "cell_type": "code",
   "execution_count": 56,
   "metadata": {},
   "outputs": [
    {
     "data": {
      "text/plain": [
       "Dict{Int64,Array{Int64,1}} with 10 entries:\n",
       "  7  => [6, 8]\n",
       "  4  => [3, 5]\n",
       "  9  => [8, 10]\n",
       "  10 => [9]\n",
       "  2  => [1, 3]\n",
       "  3  => [4, 2]\n",
       "  5  => [4]\n",
       "  8  => [9, 7]\n",
       "  6  => [7]\n",
       "  1  => [2]"
      ]
     },
     "execution_count": 56,
     "metadata": {},
     "output_type": "execute_result"
    }
   ],
   "source": [
    "mol.bonds"
   ]
  },
  {
   "cell_type": "markdown",
   "metadata": {},
   "source": [
    "### list residues:"
   ]
  },
  {
   "cell_type": "code",
   "execution_count": 57,
   "metadata": {},
   "outputs": [
    {
     "data": {
      "text/plain": [
       "2-element Array{LinkedResidue,1}:\n",
       " 5-atom LinkedResidue:\n",
       "      id = 1\n",
       "  source = BKB\n",
       "  offset = 0\n",
       "   links = 0-element array\n",
       " 5-atom LinkedResidue:\n",
       "      id = 2\n",
       "  source = BKB\n",
       "  offset = 5\n",
       "   links = 0-element array"
      ]
     },
     "execution_count": 57,
     "metadata": {},
     "output_type": "execute_result"
    }
   ],
   "source": [
    "mol.residues"
   ]
  },
  {
   "cell_type": "markdown",
   "metadata": {},
   "source": [
    "### list links:\n",
    "\n",
    "since no links were provided so far, both linked residues within the molecule are not actually linked!"
   ]
  },
  {
   "cell_type": "code",
   "execution_count": 58,
   "metadata": {},
   "outputs": [
    {
     "data": {
      "text/plain": [
       "0-element Array{ProtoSyn._Link{LinkedResidue},1}"
      ]
     },
     "execution_count": 58,
     "metadata": {},
     "output_type": "execute_result"
    }
   ],
   "source": [
    "mol.links"
   ]
  },
  {
   "cell_type": "markdown",
   "metadata": {},
   "source": [
    "# Links\n",
    "\n",
    "A link `ProtoSyn.Link` is a structure that takes to linked residues (`LinkedResidue`) and a connectivity graph (`ConnectGraph`)\n",
    "that indicates which atoms from linked residue 1 connect to which atoms of linked residue 2. This connectivity graph always uses\n",
    "local atom indices.\n",
    "\n",
    "### Example\n",
    "\n",
    "Link `lr1` and `lr2` through atom atom 4 of `lr1` (`C`) and atom 2 of `lr2` (`N`):\n",
    "\n",
    "**NOTE**: a single atom from l-residue 1 can connect to multiple atoms of l-residue 2! "
   ]
  },
  {
   "cell_type": "code",
   "execution_count": 59,
   "metadata": {},
   "outputs": [
    {
     "data": {
      "text/plain": [
       "1-bond Link:\n",
       "  residue1 = BKB.1\n",
       "  residue2 = BKB.2\n",
       "  bonds:\n",
       "   4 => 2"
      ]
     },
     "execution_count": 59,
     "metadata": {},
     "output_type": "execute_result"
    }
   ],
   "source": [
    "# instantiate link\n",
    "link = ProtoSyn.Link(lr1, lr2, ProtoSyn.ConnectGraph(4 => [2]))\n",
    "# add link to molecule\n",
    "push!(mol, link)\n",
    "# add link to bothe linked residues\n",
    "push!(lr1, link)\n",
    "push!(lr2, link)\n",
    "link"
   ]
  },
  {
   "cell_type": "code",
   "execution_count": 60,
   "metadata": {},
   "outputs": [
    {
     "name": "stdout",
     "output_type": "stream",
     "text": [
      "molecule is coherent: false\n"
     ]
    }
   ],
   "source": [
    "println(\"molecule is coherent: \", mol.coherent)"
   ]
  },
  {
   "cell_type": "code",
   "execution_count": 61,
   "metadata": {},
   "outputs": [
    {
     "data": {
      "text/plain": [
       "ATOM      1    H BKB    1  H -> [2]\n",
       "ATOM      2    N BKB    1  N -> [1, 3]\n",
       "ATOM      3   CA BKB    1  C -> [4, 2]\n",
       "ATOM      4    C BKB    1  C -> [3, 5, 7]\n",
       "ATOM      5    O BKB    1  O -> [4]\n",
       "ATOM      6    H BKB    2  H -> [7]\n",
       "ATOM      7    N BKB    2  N -> [6, 8, 4]\n",
       "ATOM      8   CA BKB    2  C -> [9, 7]\n",
       "ATOM      9    C BKB    2  C -> [8, 10]\n",
       "ATOM     10    O BKB    2  O -> [9]\n"
      ]
     },
     "execution_count": 61,
     "metadata": {},
     "output_type": "execute_result"
    }
   ],
   "source": [
    "ProtoSyn.update!(mol)"
   ]
  },
  {
   "cell_type": "code",
   "execution_count": 62,
   "metadata": {},
   "outputs": [
    {
     "data": {
      "text/plain": [
       "1-element Array{ProtoSyn._Link{LinkedResidue},1}:\n",
       " 1-bond Link:\n",
       "  residue1 = BKB.1\n",
       "  residue2 = BKB.2\n",
       "  bonds:\n",
       "   4 => 2"
      ]
     },
     "execution_count": 62,
     "metadata": {},
     "output_type": "execute_result"
    }
   ],
   "source": [
    "mol.links"
   ]
  },
  {
   "cell_type": "markdown",
   "metadata": {},
   "source": [
    "Alternatively, one can use the `peptidebond` rule from the `ProtoSyn.Peptides` module to\n",
    "straightforwardly bind those two l-residues:"
   ]
  },
  {
   "cell_type": "code",
   "execution_count": 63,
   "metadata": {},
   "outputs": [],
   "source": [
    "# link = ProtoSyn.bind(ProtoSyn.Peptides.peptidebond, lr1, lr2)\n",
    "# if link !== nothing\n",
    "#     ProtoSyn.update!(mol)\n",
    "# end"
   ]
  },
  {
   "cell_type": "markdown",
   "metadata": {},
   "source": [
    "# Build a polypeptide out of the box\n",
    "\n",
    "Instead of manually building a molecule as shown above, one can use the utility method in `ProtoSyn.Peptides`\n",
    "to automatically build a peptide chain for a given sequence, using the user-provided residue library.\n",
    "\n",
    "\n",
    "### Example\n",
    "\n",
    "build a molecule with 5 `BKB` residues, using the above generated lib:"
   ]
  },
  {
   "cell_type": "code",
   "execution_count": 64,
   "metadata": {},
   "outputs": [],
   "source": [
    "sequence = repeat([\"BKB\"], 5)\n",
    "mol, state = ProtoSyn.Peptides.build(sequence, lib);"
   ]
  },
  {
   "cell_type": "markdown",
   "metadata": {},
   "source": [
    "Alternativelly, `ProtoSyn.Peptides.one_2_three` provides a mapping between 1-letter codes and 3-letter residue names.\n",
    "\n",
    "The `BKB` (backbone) aminoacid is coded as `?`. Hence, the molecule can be constructed from a singe string and a user-provided library:"
   ]
  },
  {
   "cell_type": "code",
   "execution_count": 65,
   "metadata": {},
   "outputs": [],
   "source": [
    "mol, state = ProtoSyn.Peptides.build(\"?????\", lib);\n",
    "#   or simply\n",
    "# mol, state = ProtoSyn.Peptides.build(\"?\"^5, lib);"
   ]
  },
  {
   "cell_type": "code",
   "execution_count": 66,
   "metadata": {},
   "outputs": [
    {
     "data": {
      "text/html": [
       "<div id=\"div_KUisequA\">\n",
       "<canvas id=\"canvas_KUisequA\">Your browser doesn't support HTML5 canvas.</canvas>\n",
       "<script>\n",
       "    var cwc_KUisequA = new ChemDoodle.TransformCanvas3D('canvas_KUisequA', CWC_WIDTH, CWC_HEIGHT);\n",
       "    cwc_KUisequA.specs.set3DRepresentation('Ball and Stick');\n",
       "    var molfile = '25\\ntitle\\nH          0.125   1.282  -0.000\\nN          0.000   0.280  -0.000\\nC          1.181  -0.560  -0.000\\nC          2.450   0.280  -0.000\\nO          2.386   1.507  -0.000\\nH          3.795  -1.282   0.000\\nN          3.670  -0.280   0.000\\nC          4.851   0.560   0.000\\nC          6.120  -0.280   0.000\\nO          6.056  -1.507   0.000\\nH          7.465   1.282  -0.000\\nN          7.340   0.280  -0.000\\nC          8.521  -0.560  -0.000\\nC          9.790   0.280  -0.000\\nO          9.726   1.507  -0.000\\nH         11.135  -1.282   0.000\\nN         11.010  -0.280   0.000\\nC         12.191   0.560   0.000\\nC         13.460  -0.280   0.000\\nO         13.396  -1.507   0.000\\nH         14.805   1.282  -0.000\\nN         14.680   0.280  -0.000\\nC         15.861  -0.560  -0.000\\nC         17.130   0.280  -0.000\\nO         17.066   1.507  -0.000\\n';\n",
       "    var molecule = ChemDoodle.readXYZ(molfile, 1);\n",
       "    cwc_KUisequA.loadMolecule(molecule);\n",
       "</script>\n",
       "</div>\n"
      ],
      "text/plain": [
       "(ATOM      1    H BKB    1  H -> [2]\n",
       "ATOM      2    N BKB    1  N -> [1, 3]\n",
       "ATOM      3   CA BKB    1  C -> [4, 2]\n",
       "ATOM      4    C BKB    1  C -> [3, 5, 7]\n",
       "ATOM      5    O BKB    1  O -> [4]\n",
       "ATOM      6    H BKB    2  H -> [7]\n",
       "ATOM      7    N BKB    2  N -> [6, 8, 4]\n",
       "ATOM      8   CA BKB    2  C -> [9, 7]\n",
       "ATOM      9    C BKB    2  C -> [8, 10, 12]\n",
       "ATOM     10    O BKB    2  O -> [9]\n",
       "ATOM     11    H BKB    3  H -> [12]\n",
       "ATOM     12    N BKB    3  N -> [11, 13, 9]\n",
       "ATOM     13   CA BKB    3  C -> [14, 12]\n",
       "ATOM     14    C BKB    3  C -> [13, 15, 17]\n",
       "ATOM     15    O BKB    3  O -> [14]\n",
       "ATOM     16    H BKB    4  H -> [17]\n",
       "ATOM     17    N BKB    4  N -> [16, 18, 14]\n",
       "ATOM     18   CA BKB    4  C -> [19, 17]\n",
       "ATOM     19    C BKB    4  C -> [18, 20, 22]\n",
       "ATOM     20    O BKB    4  O -> [19]\n",
       "ATOM     21    H BKB    5  H -> [22]\n",
       "ATOM     22    N BKB    5  N -> [21, 23, 19]\n",
       "ATOM     23   CA BKB    5  C -> [24, 22]\n",
       "ATOM     24    C BKB    5  C -> [23, 25]\n",
       "ATOM     25    O BKB    5  O -> [24]\n",
       ", State{Float64}(25, [0.0124844 0.128164 -0.0; 0.0 0.028 -0.0; … ; 1.71304 0.028 -0.0; 1.70663 0.150718 -0.0], nothing, nothing, ProtoSyn.Energy{Float64}(NaN, Dict{Symbol,Float64}())))"
      ]
     },
     "execution_count": 66,
     "metadata": {},
     "output_type": "execute_result"
    }
   ],
   "source": [
    "# display((mol,state)) -> Tuple{Molecule,State}\n",
    "mol,state"
   ]
  },
  {
   "cell_type": "markdown",
   "metadata": {},
   "source": [
    "# Crankshaft and Dihedral Identification\n",
    "\n",
    "The `ProtoSyn.Peptides` module offers a par of methods for identifying rotatable crankshafts and dihedrals in peptides.\n",
    "\n",
    "### Example:"
   ]
  },
  {
   "cell_type": "code",
   "execution_count": 67,
   "metadata": {},
   "outputs": [
    {
     "data": {
      "text/plain": [
       "10-element Array{AxisRotatableBlock,1}:\n",
       " AxisRotatableBlock(8, 13, 9)  \n",
       " AxisRotatableBlock(8, 18, 9)  \n",
       " AxisRotatableBlock(8, 23, 9)  \n",
       " AxisRotatableBlock(3, 8, 4)   \n",
       " AxisRotatableBlock(3, 13, 4)  \n",
       " AxisRotatableBlock(3, 18, 4)  \n",
       " AxisRotatableBlock(3, 23, 4)  \n",
       " AxisRotatableBlock(13, 18, 14)\n",
       " AxisRotatableBlock(13, 23, 14)\n",
       " AxisRotatableBlock(18, 23, 19)"
      ]
     },
     "execution_count": 67,
     "metadata": {},
     "output_type": "execute_result"
    }
   ],
   "source": [
    "crankshafts = ProtoSyn.Peptides.findcrankshafts(mol)"
   ]
  },
  {
   "cell_type": "code",
   "execution_count": 68,
   "metadata": {},
   "outputs": [
    {
     "data": {
      "text/plain": [
       "12-element Array{Dihedral,1}:\n",
       " Dihedral(2, 3, 4, 7, 4, psi::Type = 2)       \n",
       " Dihedral(3, 4, 7, 8, 7, omega::Type = 3)     \n",
       " Dihedral(4, 7, 8, 9, 8, phi::Type = 1)       \n",
       " Dihedral(7, 8, 9, 12, 9, psi::Type = 2)      \n",
       " Dihedral(8, 9, 12, 13, 12, omega::Type = 3)  \n",
       " Dihedral(9, 12, 13, 14, 13, phi::Type = 1)   \n",
       " Dihedral(12, 13, 14, 17, 14, psi::Type = 2)  \n",
       " Dihedral(13, 14, 17, 18, 17, omega::Type = 3)\n",
       " Dihedral(14, 17, 18, 19, 18, phi::Type = 1)  \n",
       " Dihedral(17, 18, 19, 22, 19, psi::Type = 2)  \n",
       " Dihedral(18, 19, 22, 23, 22, omega::Type = 3)\n",
       " Dihedral(19, 22, 23, 24, 23, phi::Type = 1)  "
      ]
     },
     "execution_count": 68,
     "metadata": {},
     "output_type": "execute_result"
    }
   ],
   "source": [
    "# backbone and sidechain dihedrals are identified by default.\n",
    "# to select which one wishes to get, simply do:\n",
    "#   ProtoSyn.Peptides.finddihedrals(mol, sidechain=<true|false>, backbone=<true|false>)\n",
    "dihedrals = ProtoSyn.Peptides.finddihedrals(mol)"
   ]
  },
  {
   "cell_type": "markdown",
   "metadata": {},
   "source": [
    "# State\n",
    "\n",
    "A `ProtoSyn.State` is a data structure that stores the current state of a `ProtoSyn.Molecule`.\n",
    "It stores coordinates, velocities, forces, (...). In the examples above, a State is returned by the `build` method."
   ]
  },
  {
   "cell_type": "code",
   "execution_count": 69,
   "metadata": {},
   "outputs": [],
   "source": [
    "# copy state\n",
    "state1 = ProtoSyn.State(state);"
   ]
  },
  {
   "cell_type": "markdown",
   "metadata": {},
   "source": [
    "### Example - rotate dihedral 4 by 90º"
   ]
  },
  {
   "cell_type": "code",
   "execution_count": 71,
   "metadata": {},
   "outputs": [
    {
     "data": {
      "text/plain": [
       "Dihedral(7, 8, 9, 12, 9, psi::Type = 2)"
      ]
     },
     "metadata": {},
     "output_type": "display_data"
    },
    {
     "data": {
      "text/html": [
       "<div id=\"div_Q80LywGR\">\n",
       "<canvas id=\"canvas_Q80LywGR\">Your browser doesn't support HTML5 canvas.</canvas>\n",
       "<script>\n",
       "    var cwc_Q80LywGR = new ChemDoodle.TransformCanvas3D('canvas_Q80LywGR', CWC_WIDTH, CWC_HEIGHT);\n",
       "    cwc_Q80LywGR.specs.set3DRepresentation('Ball and Stick');\n",
       "    var molfile = '25\\ntitle\\nH          0.125   1.282  -0.000\\nN          0.000   0.280  -0.000\\nC          1.181  -0.560  -0.000\\nC          2.450   0.280  -0.000\\nO          2.386   1.507  -0.000\\nH          3.795  -1.282   0.000\\nN          3.670  -0.280   0.000\\nC          4.851   0.560   0.000\\nC          6.120  -0.280   0.000\\nO          7.225   0.259   0.000\\nH          5.209  -2.128  -0.000\\nN          6.082  -1.622  -0.000\\nC          7.317  -2.380  -0.000\\nC          7.040  -3.877  -0.000\\nO          5.886  -4.298  -0.000\\nH          9.003  -4.503   0.000\\nN          8.033  -4.780  -0.000\\nC          7.721  -6.195  -0.000\\nC          8.991  -7.035  -0.000\\nO         10.095  -6.497  -0.000\\nH          8.079  -8.884  -0.000\\nN          8.952  -8.377  -0.000\\nC         10.187  -9.135  -0.000\\nC          9.911 -10.632  -0.000\\nO          8.756 -11.053  -0.000\\n';\n",
       "    var molecule = ChemDoodle.readXYZ(molfile, 1);\n",
       "    cwc_Q80LywGR.loadMolecule(molecule);\n",
       "</script>\n",
       "</div>\n"
      ],
      "text/plain": [
       "(ATOM      1    H BKB    1  H -> [2]\n",
       "ATOM      2    N BKB    1  N -> [1, 3]\n",
       "ATOM      3   CA BKB    1  C -> [4, 2]\n",
       "ATOM      4    C BKB    1  C -> [3, 5, 7]\n",
       "ATOM      5    O BKB    1  O -> [4]\n",
       "ATOM      6    H BKB    2  H -> [7]\n",
       "ATOM      7    N BKB    2  N -> [6, 8, 4]\n",
       "ATOM      8   CA BKB    2  C -> [9, 7]\n",
       "ATOM      9    C BKB    2  C -> [8, 10, 12]\n",
       "ATOM     10    O BKB    2  O -> [9]\n",
       "ATOM     11    H BKB    3  H -> [12]\n",
       "ATOM     12    N BKB    3  N -> [11, 13, 9]\n",
       "ATOM     13   CA BKB    3  C -> [14, 12]\n",
       "ATOM     14    C BKB    3  C -> [13, 15, 17]\n",
       "ATOM     15    O BKB    3  O -> [14]\n",
       "ATOM     16    H BKB    4  H -> [17]\n",
       "ATOM     17    N BKB    4  N -> [16, 18, 14]\n",
       "ATOM     18   CA BKB    4  C -> [19, 17]\n",
       "ATOM     19    C BKB    4  C -> [18, 20, 22]\n",
       "ATOM     20    O BKB    4  O -> [19]\n",
       "ATOM     21    H BKB    5  H -> [22]\n",
       "ATOM     22    N BKB    5  N -> [21, 23, 19]\n",
       "ATOM     23   CA BKB    5  C -> [24, 22]\n",
       "ATOM     24    C BKB    5  C -> [23, 25]\n",
       "ATOM     25    O BKB    5  O -> [24]\n",
       ", State{Float64}(25, [0.0124844 0.128164 -0.0; 0.0 0.028 -0.0; … ; 0.991068 -1.06322 -1.6446e-16; 0.875619 -1.10531 -2.36427e-16], nothing, nothing, ProtoSyn.Energy{Float64}(NaN, Dict{Symbol,Float64}())))"
      ]
     },
     "execution_count": 71,
     "metadata": {},
     "output_type": "execute_result"
    }
   ],
   "source": [
    "dihd = dihedrals[4]\n",
    "ProtoSyn.rotate!(state1, mol, dihd, deg2rad(90))\n",
    "display(dihd)\n",
    "(mol,state1)"
   ]
  },
  {
   "cell_type": "code",
   "execution_count": 72,
   "metadata": {},
   "outputs": [],
   "source": [
    "### Example - rotate dihedral 8 by 90º"
   ]
  },
  {
   "cell_type": "code",
   "execution_count": 73,
   "metadata": {},
   "outputs": [
    {
     "data": {
      "text/plain": [
       "Dihedral(13, 14, 17, 18, 17, omega::Type = 3)"
      ]
     },
     "metadata": {},
     "output_type": "display_data"
    },
    {
     "data": {
      "text/html": [
       "<div id=\"div_TymnukDA\">\n",
       "<canvas id=\"canvas_TymnukDA\">Your browser doesn't support HTML5 canvas.</canvas>\n",
       "<script>\n",
       "    var cwc_TymnukDA = new ChemDoodle.TransformCanvas3D('canvas_TymnukDA', CWC_WIDTH, CWC_HEIGHT);\n",
       "    cwc_TymnukDA.specs.set3DRepresentation('Ball and Stick');\n",
       "    var molfile = '25\\ntitle\\nH          0.125   1.282  -0.000\\nN          0.000   0.280  -0.000\\nC          1.181  -0.560  -0.000\\nC          2.450   0.280  -0.000\\nO          2.386   1.507  -0.000\\nH          3.795  -1.282   0.000\\nN          3.670  -0.280   0.000\\nC          4.851   0.560   0.000\\nC          6.120  -0.280   0.000\\nO          7.225   0.259   0.000\\nH          5.209  -2.128  -0.000\\nN          6.082  -1.622  -0.000\\nC          7.317  -2.380  -0.000\\nC          7.040  -3.877  -0.000\\nO          5.886  -4.298  -0.000\\nH          8.426  -5.138   0.858\\nN          8.033  -4.780  -0.000\\nC          8.567  -5.267  -1.256\\nC          9.679  -6.279  -1.022\\nO         10.015  -6.585   0.120\\nH         10.101  -6.663  -3.003\\nN         10.326  -6.868  -2.040\\nC         11.379  -7.827  -1.769\\nC         11.973  -8.367  -3.063\\nO         11.551  -7.984  -4.151\\n';\n",
       "    var molecule = ChemDoodle.readXYZ(molfile, 1);\n",
       "    cwc_TymnukDA.loadMolecule(molecule);\n",
       "</script>\n",
       "</div>\n"
      ],
      "text/plain": [
       "(ATOM      1    H BKB    1  H -> [2]\n",
       "ATOM      2    N BKB    1  N -> [1, 3]\n",
       "ATOM      3   CA BKB    1  C -> [4, 2]\n",
       "ATOM      4    C BKB    1  C -> [3, 5, 7]\n",
       "ATOM      5    O BKB    1  O -> [4]\n",
       "ATOM      6    H BKB    2  H -> [7]\n",
       "ATOM      7    N BKB    2  N -> [6, 8, 4]\n",
       "ATOM      8   CA BKB    2  C -> [9, 7]\n",
       "ATOM      9    C BKB    2  C -> [8, 10, 12]\n",
       "ATOM     10    O BKB    2  O -> [9]\n",
       "ATOM     11    H BKB    3  H -> [12]\n",
       "ATOM     12    N BKB    3  N -> [11, 13, 9]\n",
       "ATOM     13   CA BKB    3  C -> [14, 12]\n",
       "ATOM     14    C BKB    3  C -> [13, 15, 17]\n",
       "ATOM     15    O BKB    3  O -> [14]\n",
       "ATOM     16    H BKB    4  H -> [17]\n",
       "ATOM     17    N BKB    4  N -> [16, 18, 14]\n",
       "ATOM     18   CA BKB    4  C -> [19, 17]\n",
       "ATOM     19    C BKB    4  C -> [18, 20, 22]\n",
       "ATOM     20    O BKB    4  O -> [19]\n",
       "ATOM     21    H BKB    5  H -> [22]\n",
       "ATOM     22    N BKB    5  N -> [21, 23, 19]\n",
       "ATOM     23   CA BKB    5  C -> [24, 22]\n",
       "ATOM     24    C BKB    5  C -> [23, 25]\n",
       "ATOM     25    O BKB    5  O -> [24]\n",
       ", State{Float64}(25, [0.0124844 0.128164 -0.0; 0.0 0.028 -0.0; … ; 1.19726 -0.836744 -0.306275; 1.15509 -0.798353 -0.415127], nothing, nothing, ProtoSyn.Energy{Float64}(NaN, Dict{Symbol,Float64}())))"
      ]
     },
     "execution_count": 73,
     "metadata": {},
     "output_type": "execute_result"
    }
   ],
   "source": [
    "dihd = dihedrals[8]\n",
    "ProtoSyn.rotate!(state1, mol, dihd, deg2rad(90))\n",
    "display(dihd)\n",
    "(mol,state1)"
   ]
  },
  {
   "cell_type": "code",
   "execution_count": 74,
   "metadata": {},
   "outputs": [],
   "source": [
    "### Example - rotate crankshaft 2 by 90º"
   ]
  },
  {
   "cell_type": "code",
   "execution_count": 76,
   "metadata": {},
   "outputs": [
    {
     "data": {
      "text/plain": [
       "AxisRotatableBlock(8, 18, 9)"
      ]
     },
     "metadata": {},
     "output_type": "display_data"
    },
    {
     "data": {
      "text/html": [
       "<div id=\"div_v88hNF4J\">\n",
       "<canvas id=\"canvas_v88hNF4J\">Your browser doesn't support HTML5 canvas.</canvas>\n",
       "<script>\n",
       "    var cwc_v88hNF4J = new ChemDoodle.TransformCanvas3D('canvas_v88hNF4J', CWC_WIDTH, CWC_HEIGHT);\n",
       "    cwc_v88hNF4J.specs.set3DRepresentation('Ball and Stick');\n",
       "    var molfile = '25\\ntitle\\nH          0.125   1.282  -0.000\\nN          0.000   0.280  -0.000\\nC          1.181  -0.560  -0.000\\nC          2.450   0.280  -0.000\\nO          2.386   1.507  -0.000\\nH          3.795  -1.282   0.000\\nN          3.670  -0.280   0.000\\nC          4.851   0.560   0.000\\nC          5.029  -0.871  -0.490\\nO          4.070  -1.637  -0.539\\nH          7.052  -0.766  -0.865\\nN          6.223  -1.341  -0.880\\nC          6.345  -2.711  -1.339\\nC          7.781  -3.031  -1.731\\nO          8.659  -2.176  -1.637\\nH          8.116  -4.467  -3.170\\nN          8.137  -4.242  -2.187\\nC          8.567  -5.267  -1.256\\nC          9.679  -6.279  -1.022\\nO         10.015  -6.585   0.120\\nH         10.101  -6.663  -3.003\\nN         10.326  -6.868  -2.040\\nC         11.379  -7.827  -1.769\\nC         11.973  -8.367  -3.063\\nO         11.551  -7.984  -4.151\\n';\n",
       "    var molecule = ChemDoodle.readXYZ(molfile, 1);\n",
       "    cwc_v88hNF4J.loadMolecule(molecule);\n",
       "</script>\n",
       "</div>\n"
      ],
      "text/plain": [
       "(ATOM      1    H BKB    1  H -> [2]\n",
       "ATOM      2    N BKB    1  N -> [1, 3]\n",
       "ATOM      3   CA BKB    1  C -> [4, 2]\n",
       "ATOM      4    C BKB    1  C -> [3, 5, 7]\n",
       "ATOM      5    O BKB    1  O -> [4]\n",
       "ATOM      6    H BKB    2  H -> [7]\n",
       "ATOM      7    N BKB    2  N -> [6, 8, 4]\n",
       "ATOM      8   CA BKB    2  C -> [9, 7]\n",
       "ATOM      9    C BKB    2  C -> [8, 10, 12]\n",
       "ATOM     10    O BKB    2  O -> [9]\n",
       "ATOM     11    H BKB    3  H -> [12]\n",
       "ATOM     12    N BKB    3  N -> [11, 13, 9]\n",
       "ATOM     13   CA BKB    3  C -> [14, 12]\n",
       "ATOM     14    C BKB    3  C -> [13, 15, 17]\n",
       "ATOM     15    O BKB    3  O -> [14]\n",
       "ATOM     16    H BKB    4  H -> [17]\n",
       "ATOM     17    N BKB    4  N -> [16, 18, 14]\n",
       "ATOM     18   CA BKB    4  C -> [19, 17]\n",
       "ATOM     19    C BKB    4  C -> [18, 20, 22]\n",
       "ATOM     20    O BKB    4  O -> [19]\n",
       "ATOM     21    H BKB    5  H -> [22]\n",
       "ATOM     22    N BKB    5  N -> [21, 23, 19]\n",
       "ATOM     23   CA BKB    5  C -> [24, 22]\n",
       "ATOM     24    C BKB    5  C -> [23, 25]\n",
       "ATOM     25    O BKB    5  O -> [24]\n",
       ", State{Float64}(25, [0.0124844 0.128164 -0.0; 0.0 0.028 -0.0; … ; 1.19726 -0.836744 -0.306275; 1.15509 -0.798353 -0.415127], nothing, nothing, ProtoSyn.Energy{Float64}(NaN, Dict{Symbol,Float64}())))"
      ]
     },
     "execution_count": 76,
     "metadata": {},
     "output_type": "execute_result"
    }
   ],
   "source": [
    "crank = crankshafts[2]\n",
    "ProtoSyn.rotate!(state1, mol, crank, deg2rad(90))\n",
    "display(crank)\n",
    "(mol,state1)"
   ]
  },
  {
   "cell_type": "markdown",
   "metadata": {},
   "source": [
    "# IO\n",
    "\n",
    "Printing a molecule + state as a pdb/xyz file"
   ]
  },
  {
   "cell_type": "code",
   "execution_count": 80,
   "metadata": {},
   "outputs": [
    {
     "ename": "MethodError",
     "evalue": "MethodError: no method matching write(::IJulia.IJuliaStdio{Base.PipeEndpoint}, ::Tuple{Molecule,State{Float64}})\nClosest candidates are:\n  write(::IO, ::Any) at io.jl:498\n  write(::IO, ::Any, !Matched::Any...) at io.jl:500\n  write(::IO, !Matched::Complex) at complex.jl:217\n  ...",
     "output_type": "error",
     "traceback": [
      "MethodError: no method matching write(::IJulia.IJuliaStdio{Base.PipeEndpoint}, ::Tuple{Molecule,State{Float64}})\nClosest candidates are:\n  write(::IO, ::Any) at io.jl:498\n  write(::IO, ::Any, !Matched::Any...) at io.jl:500\n  write(::IO, !Matched::Complex) at complex.jl:217\n  ...",
      "",
      "Stacktrace:",
      " [1] write(::IJulia.IJuliaStdio{Base.PipeEndpoint}, ::Tuple{Molecule,State{Float64}}) at ./io.jl:498",
      " [2] top-level scope at In[80]:1"
     ]
    }
   ],
   "source": [
    "write(stdout, (mol, state))"
   ]
  },
  {
   "cell_type": "code",
   "execution_count": 81,
   "metadata": {},
   "outputs": [
    {
     "name": "stdout",
     "output_type": "stream",
     "text": [
      "25\n",
      "title\n",
      "H          0.125   1.282  -0.000\n",
      "N          0.000   0.280  -0.000\n",
      "C          1.181  -0.560  -0.000\n",
      "C          2.450   0.280  -0.000\n",
      "O          2.386   1.507  -0.000\n",
      "H          3.795  -1.282   0.000\n",
      "N          3.670  -0.280   0.000\n",
      "C          4.851   0.560   0.000\n",
      "C          6.120  -0.280   0.000\n",
      "O          6.056  -1.507   0.000\n",
      "H          7.465   1.282  -0.000\n",
      "N          7.340   0.280  -0.000\n",
      "C          8.521  -0.560  -0.000\n",
      "C          9.790   0.280  -0.000\n",
      "O          9.726   1.507  -0.000\n",
      "H         11.135  -1.282   0.000\n",
      "N         11.010  -0.280   0.000\n",
      "C         12.191   0.560   0.000\n",
      "C         13.460  -0.280   0.000\n",
      "O         13.396  -1.507   0.000\n",
      "H         14.805   1.282  -0.000\n",
      "N         14.680   0.280  -0.000\n",
      "C         15.861  -0.560  -0.000\n",
      "C         17.130   0.280  -0.000\n",
      "O         17.066   1.507  -0.000\n"
     ]
    }
   ],
   "source": [
    "write(stdout, mol, state, ProtoSyn.XYZ)"
   ]
  },
  {
   "cell_type": "code",
   "execution_count": 82,
   "metadata": {},
   "outputs": [
    {
     "name": "stdout",
     "output_type": "stream",
     "text": [
      "ϕ1 =-158.9068939794619\n",
      "ϕ2 =-180.0\n",
      "ϕ3 =-130.791136833356\n",
      "ϕ4 =179.9999999999999\n"
     ]
    }
   ],
   "source": [
    "phis   = filter(d -> d.type==ProtoSyn.Peptides.DihedralTypes.phi, dihedrals)\n",
    "psis   = filter(d -> d.type==ProtoSyn.Peptides.DihedralTypes.psi, dihedrals)\n",
    "omegas = filter(d -> d.type==ProtoSyn.Peptides.DihedralTypes.omega, dihedrals)\n",
    "\n",
    "for (i,phi) in enumerate(phis)\n",
    "    println(\"ϕ$(i) =\", rad2deg(ProtoSyn.measure(phi, state1)))\n",
    "end"
   ]
  },
  {
   "cell_type": "code",
   "execution_count": 83,
   "metadata": {},
   "outputs": [
    {
     "data": {
      "text/plain": [
       "4-element Array{ProtoSyn._Link{LinkedResidue},1}:\n",
       " 1-bond Link:\n",
       "  residue1 = BKB.1\n",
       "  residue2 = BKB.2\n",
       "  bonds:\n",
       "   4 => 2\n",
       " 1-bond Link:\n",
       "  residue1 = BKB.2\n",
       "  residue2 = BKB.3\n",
       "  bonds:\n",
       "   4 => 2\n",
       " 1-bond Link:\n",
       "  residue1 = BKB.3\n",
       "  residue2 = BKB.4\n",
       "  bonds:\n",
       "   4 => 2\n",
       " 1-bond Link:\n",
       "  residue1 = BKB.4\n",
       "  residue2 = BKB.5\n",
       "  bonds:\n",
       "   4 => 2"
      ]
     },
     "execution_count": 83,
     "metadata": {},
     "output_type": "execute_result"
    }
   ],
   "source": [
    "mol.links"
   ]
  },
  {
   "cell_type": "code",
   "execution_count": null,
   "metadata": {},
   "outputs": [],
   "source": []
  }
 ],
 "metadata": {
  "kernelspec": {
   "display_name": "Julia 1.1.0",
   "language": "julia",
   "name": "julia-1.1"
  },
  "language_info": {
   "file_extension": ".jl",
   "mimetype": "application/julia",
   "name": "julia",
   "version": "1.1.0"
  }
 },
 "nbformat": 4,
 "nbformat_minor": 2
}
