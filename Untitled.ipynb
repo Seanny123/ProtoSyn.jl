{
 "cells": [
  {
   "cell_type": "code",
   "execution_count": 44,
   "metadata": {},
   "outputs": [
    {
     "name": "stderr",
     "output_type": "stream",
     "text": [
      "┌ Info: Recompiling stale cache file /Users/ssantos/.julia/compiled/v1.1/ProtoSyn/8FAXX.ji for ProtoSyn [c9758760-7c0d-11e9-0ffc-fb9355b7d293]\n",
      "└ @ Base loading.jl:1184\n",
      "┌ Warning: Package ProtoSyn does not have LinearAlgebra in its dependencies:\n",
      "│ - If you have ProtoSyn checked out for development and have\n",
      "│   added LinearAlgebra as a dependency but haven't updated your primary\n",
      "│   environment's manifest file, try `Pkg.resolve()`.\n",
      "│ - Otherwise you may need to report an issue with ProtoSyn\n",
      "└ Loading LinearAlgebra into ProtoSyn from project dependency, future warnings for ProtoSyn are suppressed.\n",
      "WARNING: Method definition get(ProtoSyn.Residue, AbstractString, Any) in module ProtoSyn at /Users/ssantos/Dropbox/dev/ProtoSyn3.jl/src/core/base.jl:28 overwritten at /Users/ssantos/Dropbox/dev/ProtoSyn3.jl/src/core/base.jl:31.\n"
     ]
    },
    {
     "data": {
      "text/plain": [
       "\"/Users/ssantos/.julia/compiled/v1.1/ProtoSyn/8FAXX.ji\""
      ]
     },
     "execution_count": 44,
     "metadata": {},
     "output_type": "execute_result"
    }
   ],
   "source": [
    "Base.compilecache(Base.PkgId(ProtoSyn))"
   ]
  },
  {
   "cell_type": "code",
   "execution_count": 45,
   "metadata": {},
   "outputs": [],
   "source": [
    "using ProtoSyn"
   ]
  },
  {
   "cell_type": "markdown",
   "metadata": {},
   "source": [
    "## 1. Load aminoacid library"
   ]
  },
  {
   "cell_type": "code",
   "execution_count": 32,
   "metadata": {},
   "outputs": [],
   "source": [
    "lib = include(joinpath(ProtoSyn.Peptides.resource_dir, \"aminoacids.jl\"));"
   ]
  },
  {
   "cell_type": "code",
   "execution_count": 33,
   "metadata": {},
   "outputs": [
    {
     "data": {
      "text/plain": [
       "3.326"
      ]
     },
     "execution_count": 33,
     "metadata": {},
     "output_type": "execute_result"
    }
   ],
   "source": [
    "lib[\"ALA\"].atoms[1].x"
   ]
  },
  {
   "cell_type": "markdown",
   "metadata": {},
   "source": [
    "## 2. create model "
   ]
  },
  {
   "cell_type": "code",
   "execution_count": 34,
   "metadata": {},
   "outputs": [
    {
     "data": {
      "text/html": [
       "<div id=\"div_OdW6Q2GY\">\n",
       "<canvas id=\"canvas_OdW6Q2GY\">Your browser doesn't support HTML5 canvas.</canvas>\n",
       "<script>\n",
       "    var cwc_OdW6Q2GY = new ChemDoodle.TransformCanvas3D('canvas_OdW6Q2GY', CWC_WIDTH, CWC_HEIGHT);\n",
       "    cwc_OdW6Q2GY.specs.set3DRepresentation('Ball and Stick');\n",
       "    var molfile = '98\\ntitle\\nN          0.000   0.280  -0.000\\nH          0.131   1.281  -0.000\\nC          1.175  -0.567  -0.000\\nH          1.170  -1.196   0.890\\nH          1.170  -1.196  -0.890\\nC          2.440   0.280  -0.000\\nO          2.368   1.507  -0.000\\nN          3.670  -0.280   0.000\\nH          3.795  -1.282   0.000\\nC          4.851   0.560   0.000\\nH          4.849   1.189  -0.890\\nC          4.886   1.458   1.232\\nH          4.003   2.097   1.241\\nH          4.896   0.842   2.131\\nC          6.142   2.325   1.195\\nO          6.053   3.443   0.620\\nO          7.179   1.861   1.741\\nC          6.120  -0.280   0.000\\nO          6.056  -1.507   0.000\\nN          7.340   0.280  -0.000\\nH          7.471   1.281  -0.000\\nC          8.515  -0.567  -0.000\\nH          8.510  -1.196   0.890\\nH          8.510  -1.196  -0.890\\nC          9.780   0.280  -0.000\\nO          9.708   1.507  -0.000\\nN         11.010  -0.280   0.000\\nH         11.135  -1.282   0.000\\nC         12.191   0.560   0.000\\nH         12.189   1.189  -0.890\\nC         12.226   1.458   1.232\\nH         11.343   2.097   1.241\\nH         12.236   0.842   2.131\\nC         13.482   2.325   1.195\\nO         13.393   3.443   0.620\\nO         14.519   1.861   1.741\\nC         13.460  -0.280   0.000\\nO         13.396  -1.507   0.000\\nN         14.680   0.280  -0.000\\nH         14.811   1.281  -0.000\\nC         15.855  -0.567  -0.000\\nH         15.850  -1.196   0.890\\nH         15.850  -1.196  -0.890\\nC         17.120   0.280  -0.000\\nO         17.048   1.507  -0.000\\nN         18.350  -0.280   0.000\\nH         18.475  -1.282   0.000\\nC         19.531   0.560   0.000\\nH         19.529   1.189  -0.890\\nC         19.566   1.458   1.232\\nH         18.683   2.097   1.241\\nH         19.576   0.842   2.131\\nC         20.822   2.325   1.195\\nO         20.733   3.443   0.620\\nO         21.859   1.861   1.741\\nC         20.800  -0.280   0.000\\nO         20.736  -1.507   0.000\\nN         22.020   0.280  -0.000\\nH         22.151   1.281  -0.000\\nC         23.195  -0.567  -0.000\\nH         23.190  -1.196   0.890\\nH         23.190  -1.196  -0.890\\nC         24.460   0.280  -0.000\\nO         24.388   1.507  -0.000\\nN         25.690  -0.280   0.000\\nH         25.815  -1.282   0.000\\nC         26.871   0.560   0.000\\nH         26.869   1.189  -0.890\\nC         26.906   1.458   1.232\\nH         26.023   2.097   1.241\\nH         26.916   0.842   2.131\\nC         28.162   2.325   1.195\\nO         28.073   3.443   0.620\\nO         29.199   1.861   1.741\\nC         28.140  -0.280   0.000\\nO         28.076  -1.507   0.000\\nN         29.360   0.280  -0.000\\nH         29.485   1.282  -0.000\\nC         30.541  -0.560  -0.000\\nH         30.539  -1.189   0.890\\nC         30.576  -1.458  -1.232\\nH         30.586  -0.842  -2.131\\nH         31.472  -2.077  -1.206\\nH         29.693  -2.097  -1.241\\nC         31.810   0.280  -0.000\\nO         31.746   1.507  -0.000\\nN         33.030  -0.280   0.000\\nH         33.155  -1.282   0.000\\nC         34.211   0.560   0.000\\nH         34.209   1.189  -0.890\\nC         34.246   1.458   1.232\\nH         33.363   2.097   1.241\\nH         34.256   0.842   2.131\\nC         35.502   2.325   1.195\\nO         35.413   3.443   0.620\\nO         36.539   1.861   1.741\\nC         35.480  -0.280   0.000\\nO         35.416  -1.507   0.000\\n';\n",
       "    var molecule = ChemDoodle.readXYZ(molfile, 1);\n",
       "    cwc_OdW6Q2GY.loadMolecule(molecule);\n",
       "</script>\n",
       "</div>\n"
      ],
      "text/plain": [
       "(ATOM      1    N GLY    1  N -> [2, 3]\n",
       "ATOM      2    H GLY    1  H -> [1]\n",
       "ATOM      3   CA GLY    1  C -> [4, 1, 5, 6]\n",
       "ATOM      4  HA1 GLY    1  H -> [3]\n",
       "ATOM      5  HA2 GLY    1  H -> [3]\n",
       "ATOM      6    C GLY    1  C -> [7, 3, 8]\n",
       "ATOM      7    O GLY    1  O -> [6]\n",
       "ATOM      8    N ASP    2  N -> [9, 10, 6]\n",
       "ATOM      9    H ASP    2  H -> [8]\n",
       "ATOM     10   CA ASP    2  C -> [18, 11, 8, 12]\n",
       "ATOM     11   HA ASP    2  H -> [10]\n",
       "ATOM     12   CB ASP    2  C -> [14, 15, 13, 10]\n",
       "ATOM     13  HB1 ASP    2  H -> [12]\n",
       "ATOM     14  HB2 ASP    2  H -> [12]\n",
       "ATOM     15   CG ASP    2  C -> [16, 17, 12]\n",
       "ATOM     16  OD1 ASP    2  O -> [15]\n",
       "ATOM     17  OD2 ASP    2  O -> [15]\n",
       "ATOM     18    C ASP    2  C -> [10, 19, 20]\n",
       "ATOM     19    O ASP    2  O -> [18]\n",
       "ATOM     20    N GLY    3  N -> [21, 22, 18]\n",
       "ATOM     21    H GLY    3  H -> [20]\n",
       "ATOM     22   CA GLY    3  C -> [23, 20, 24, 25]\n",
       "ATOM     23  HA1 GLY    3  H -> [22]\n",
       "ATOM     24  HA2 GLY    3  H -> [22]\n",
       "ATOM     25    C GLY    3  C -> [26, 22, 27]\n",
       "ATOM     26    O GLY    3  O -> [25]\n",
       "ATOM     27    N ASP    4  N -> [28, 29, 25]\n",
       "ATOM     28    H ASP    4  H -> [27]\n",
       "ATOM     29   CA ASP    4  C -> [37, 30, 27, 31]\n",
       "ATOM     30   HA ASP    4  H -> [29]\n",
       "ATOM     31   CB ASP    4  C -> [33, 34, 32, 29]\n",
       "ATOM     32  HB1 ASP    4  H -> [31]\n",
       "ATOM     33  HB2 ASP    4  H -> [31]\n",
       "ATOM     34   CG ASP    4  C -> [35, 36, 31]\n",
       "ATOM     35  OD1 ASP    4  O -> [34]\n",
       "ATOM     36  OD2 ASP    4  O -> [34]\n",
       "ATOM     37    C ASP    4  C -> [29, 38, 39]\n",
       "ATOM     38    O ASP    4  O -> [37]\n",
       "ATOM     39    N GLY    5  N -> [40, 41, 37]\n",
       "ATOM     40    H GLY    5  H -> [39]\n",
       "ATOM     41   CA GLY    5  C -> [42, 39, 43, 44]\n",
       "ATOM     42  HA1 GLY    5  H -> [41]\n",
       "ATOM     43  HA2 GLY    5  H -> [41]\n",
       "ATOM     44    C GLY    5  C -> [45, 41, 46]\n",
       "ATOM     45    O GLY    5  O -> [44]\n",
       "ATOM     46    N ASP    6  N -> [47, 48, 44]\n",
       "ATOM     47    H ASP    6  H -> [46]\n",
       "ATOM     48   CA ASP    6  C -> [56, 49, 46, 50]\n",
       "ATOM     49   HA ASP    6  H -> [48]\n",
       "ATOM     50   CB ASP    6  C -> [52, 53, 51, 48]\n",
       "ATOM     51  HB1 ASP    6  H -> [50]\n",
       "ATOM     52  HB2 ASP    6  H -> [50]\n",
       "ATOM     53   CG ASP    6  C -> [54, 55, 50]\n",
       "ATOM     54  OD1 ASP    6  O -> [53]\n",
       "ATOM     55  OD2 ASP    6  O -> [53]\n",
       "ATOM     56    C ASP    6  C -> [48, 57, 58]\n",
       "ATOM     57    O ASP    6  O -> [56]\n",
       "ATOM     58    N GLY    7  N -> [59, 60, 56]\n",
       "ATOM     59    H GLY    7  H -> [58]\n",
       "ATOM     60   CA GLY    7  C -> [61, 58, 62, 63]\n",
       "ATOM     61  HA1 GLY    7  H -> [60]\n",
       "ATOM     62  HA2 GLY    7  H -> [60]\n",
       "ATOM     63    C GLY    7  C -> [64, 60, 65]\n",
       "ATOM     64    O GLY    7  O -> [63]\n",
       "ATOM     65    N ASP    8  N -> [66, 67, 63]\n",
       "ATOM     66    H ASP    8  H -> [65]\n",
       "ATOM     67   CA ASP    8  C -> [75, 68, 65, 69]\n",
       "ATOM     68   HA ASP    8  H -> [67]\n",
       "ATOM     69   CB ASP    8  C -> [71, 72, 70, 67]\n",
       "ATOM     70  HB1 ASP    8  H -> [69]\n",
       "ATOM     71  HB2 ASP    8  H -> [69]\n",
       "ATOM     72   CG ASP    8  C -> [73, 74, 69]\n",
       "ATOM     73  OD1 ASP    8  O -> [72]\n",
       "ATOM     74  OD2 ASP    8  O -> [72]\n",
       "ATOM     75    C ASP    8  C -> [67, 76, 77]\n",
       "ATOM     76    O ASP    8  O -> [75]\n",
       "ATOM     77    N ALA    9  N -> [78, 79, 75]\n",
       "ATOM     78    H ALA    9  H -> [77]\n",
       "ATOM     79   CA ALA    9  C -> [80, 85, 77, 81]\n",
       "ATOM     80   HA ALA    9  H -> [79]\n",
       "ATOM     81   CB ALA    9  C -> [83, 79, 82, 84]\n",
       "ATOM     82  HB1 ALA    9  H -> [81]\n",
       "ATOM     83  HB2 ALA    9  H -> [81]\n",
       "ATOM     84  HB3 ALA    9  H -> [81]\n",
       "ATOM     85    C ALA    9  C -> [79, 86, 87]\n",
       "ATOM     86    O ALA    9  O -> [85]\n",
       "ATOM     87    N ASP   10  N -> [88, 89, 85]\n",
       "ATOM     88    H ASP   10  H -> [87]\n",
       "ATOM     89   CA ASP   10  C -> [97, 90, 87, 91]\n",
       "ATOM     90   HA ASP   10  H -> [89]\n",
       "ATOM     91   CB ASP   10  C -> [93, 94, 92, 89]\n",
       "ATOM     92  HB1 ASP   10  H -> [91]\n",
       "ATOM     93  HB2 ASP   10  H -> [91]\n",
       "ATOM     94   CG ASP   10  C -> [95, 96, 91]\n",
       "ATOM     95  OD1 ASP   10  O -> [94]\n",
       "ATOM     96  OD2 ASP   10  O -> [94]\n",
       "ATOM     97    C ASP   10  C -> [89, 98]\n",
       "ATOM     98    O ASP   10  O -> [97]\n",
       ", State{Float64}(98, [0.0 0.28 -0.0; 0.130967 1.28086 -0.0; … ; 35.4804 -0.28 0.0; 35.4163 -1.50718 0.0], nothing, nothing, ProtoSyn.Energy{Float64}(NaN, Dict{Symbol,Float64}())))"
      ]
     },
     "execution_count": 34,
     "metadata": {},
     "output_type": "execute_result"
    }
   ],
   "source": [
    "mol, state = ProtoSyn.Peptides.build(\"GDGDGDGDAD\", lib)"
   ]
  },
  {
   "cell_type": "code",
   "execution_count": 35,
   "metadata": {},
   "outputs": [
    {
     "data": {
      "text/plain": [
       "27-element Array{Dihedral,1}:\n",
       " Dihedral(1, 3, 6, 8, 6, psi::Type = 2)       \n",
       " Dihedral(3, 6, 8, 10, 8, omega::Type = 3)    \n",
       " Dihedral(6, 8, 10, 18, 10, phi::Type = 1)    \n",
       " Dihedral(8, 10, 18, 20, 18, psi::Type = 2)   \n",
       " Dihedral(10, 18, 20, 22, 20, omega::Type = 3)\n",
       " Dihedral(18, 20, 22, 25, 22, phi::Type = 1)  \n",
       " Dihedral(20, 22, 25, 27, 25, psi::Type = 2)  \n",
       " Dihedral(22, 25, 27, 29, 27, omega::Type = 3)\n",
       " Dihedral(25, 27, 29, 37, 29, phi::Type = 1)  \n",
       " Dihedral(27, 29, 37, 39, 37, psi::Type = 2)  \n",
       " Dihedral(29, 37, 39, 41, 39, omega::Type = 3)\n",
       " Dihedral(37, 39, 41, 44, 41, phi::Type = 1)  \n",
       " Dihedral(39, 41, 44, 46, 44, psi::Type = 2)  \n",
       " ⋮                                            \n",
       " Dihedral(46, 48, 56, 58, 56, psi::Type = 2)  \n",
       " Dihedral(48, 56, 58, 60, 58, omega::Type = 3)\n",
       " Dihedral(56, 58, 60, 63, 60, phi::Type = 1)  \n",
       " Dihedral(58, 60, 63, 65, 63, psi::Type = 2)  \n",
       " Dihedral(60, 63, 65, 67, 65, omega::Type = 3)\n",
       " Dihedral(63, 65, 67, 75, 67, phi::Type = 1)  \n",
       " Dihedral(65, 67, 75, 77, 75, psi::Type = 2)  \n",
       " Dihedral(67, 75, 77, 79, 77, omega::Type = 3)\n",
       " Dihedral(75, 77, 79, 85, 79, phi::Type = 1)  \n",
       " Dihedral(77, 79, 85, 87, 85, psi::Type = 2)  \n",
       " Dihedral(79, 85, 87, 89, 87, omega::Type = 3)\n",
       " Dihedral(85, 87, 89, 97, 89, phi::Type = 1)  "
      ]
     },
     "execution_count": 35,
     "metadata": {},
     "output_type": "execute_result"
    }
   ],
   "source": [
    "dihedrals = ProtoSyn.Peptides.finddihedrals(mol, sidechain=false)"
   ]
  },
  {
   "cell_type": "code",
   "execution_count": 36,
   "metadata": {},
   "outputs": [
    {
     "data": {
      "text/plain": [
       "10-element Array{String,1}:\n",
       " \"GLY\"\n",
       " \"ASP\"\n",
       " \"GLY\"\n",
       " \"ASP\"\n",
       " \"GLY\"\n",
       " \"ASP\"\n",
       " \"GLY\"\n",
       " \"ASP\"\n",
       " \"ALA\"\n",
       " \"ASP\""
      ]
     },
     "execution_count": 36,
     "metadata": {},
     "output_type": "execute_result"
    }
   ],
   "source": [
    "[r.source.name for r in ProtoSyn.iterbyresidue(mol)]"
   ]
  },
  {
   "cell_type": "code",
   "execution_count": 22,
   "metadata": {},
   "outputs": [
    {
     "data": {
      "text/plain": [
       "State{Float64}(98, [7.92228 -0.672266 14.3069; 7.56108 -0.403533 13.4035; … ; 35.4804 -0.28 0.0; 35.4163 -1.50718 0.0], nothing, nothing, ProtoSyn.Energy{Float64}(NaN, Dict{Symbol,Float64}()))"
      ]
     },
     "execution_count": 22,
     "metadata": {},
     "output_type": "execute_result"
    }
   ],
   "source": [
    "ProtoSyn.set!(state, mol, 1:10, (\"N\",\"C\",\"CA\",\"+N\"), deg2rad(90.0))"
   ]
  },
  {
   "cell_type": "code",
   "execution_count": 37,
   "metadata": {},
   "outputs": [
    {
     "data": {
      "text/html": [
       "<div id=\"div_3OvVbk2Z\">\n",
       "<canvas id=\"canvas_3OvVbk2Z\">Your browser doesn't support HTML5 canvas.</canvas>\n",
       "<script>\n",
       "    var cwc_3OvVbk2Z = new ChemDoodle.TransformCanvas3D('canvas_3OvVbk2Z', CWC_WIDTH, CWC_HEIGHT);\n",
       "    cwc_3OvVbk2Z.specs.set3DRepresentation('Ball and Stick');\n",
       "    var molfile = '98\\ntitle\\nN          0.000   0.280  -0.000\\nH          0.131   1.281  -0.000\\nC          1.175  -0.567  -0.000\\nH          1.170  -1.196   0.890\\nH          1.170  -1.196  -0.890\\nC          2.440   0.280  -0.000\\nO          2.368   1.507  -0.000\\nN          3.670  -0.280   0.000\\nH          3.795  -1.282   0.000\\nC          4.851   0.560   0.000\\nH          4.849   1.189  -0.890\\nC          4.886   1.458   1.232\\nH          4.003   2.097   1.241\\nH          4.896   0.842   2.131\\nC          6.142   2.325   1.195\\nO          6.053   3.443   0.620\\nO          7.179   1.861   1.741\\nC          6.120  -0.280   0.000\\nO          6.056  -1.507   0.000\\nN          7.340   0.280  -0.000\\nH          7.471   1.281  -0.000\\nC          8.515  -0.567  -0.000\\nH          8.510  -1.196   0.890\\nH          8.510  -1.196  -0.890\\nC          9.780   0.280  -0.000\\nO          9.708   1.507  -0.000\\nN         11.010  -0.280   0.000\\nH         11.135  -1.282   0.000\\nC         12.191   0.560   0.000\\nH         12.189   1.189  -0.890\\nC         12.226   1.458   1.232\\nH         11.343   2.097   1.241\\nH         12.236   0.842   2.131\\nC         13.482   2.325   1.195\\nO         13.393   3.443   0.620\\nO         14.519   1.861   1.741\\nC         13.460  -0.280   0.000\\nO         13.396  -1.507   0.000\\nN         14.680   0.280  -0.000\\nH         14.811   1.281  -0.000\\nC         15.855  -0.567  -0.000\\nH         15.850  -1.196   0.890\\nH         15.850  -1.196  -0.890\\nC         17.120   0.280  -0.000\\nO         17.048   1.507  -0.000\\nN         18.350  -0.280   0.000\\nH         18.475  -1.282   0.000\\nC         19.531   0.560   0.000\\nH         19.529   1.189  -0.890\\nC         19.566   1.458   1.232\\nH         18.683   2.097   1.241\\nH         19.576   0.842   2.131\\nC         20.822   2.325   1.195\\nO         20.733   3.443   0.620\\nO         21.859   1.861   1.741\\nC         20.800  -0.280   0.000\\nO         20.736  -1.507   0.000\\nN         22.020   0.280  -0.000\\nH         22.151   1.281  -0.000\\nC         23.195  -0.567  -0.000\\nH         23.190  -1.196   0.890\\nH         23.190  -1.196  -0.890\\nC         24.460   0.280  -0.000\\nO         24.388   1.507  -0.000\\nN         25.690  -0.280   0.000\\nH         25.815  -1.282   0.000\\nC         26.871   0.560   0.000\\nH         26.869   1.189  -0.890\\nC         26.906   1.458   1.232\\nH         26.023   2.097   1.241\\nH         26.916   0.842   2.131\\nC         28.162   2.325   1.195\\nO         28.073   3.443   0.620\\nO         29.199   1.861   1.741\\nC         28.140  -0.280   0.000\\nO         28.076  -1.507   0.000\\nN         29.360   0.280  -0.000\\nH         29.485   1.282  -0.000\\nC         30.541  -0.560  -0.000\\nH         30.539  -1.189   0.890\\nC         30.576  -1.458  -1.232\\nH         30.586  -0.842  -2.131\\nH         31.472  -2.077  -1.206\\nH         29.693  -2.097  -1.241\\nC         31.810   0.280  -0.000\\nO         31.746   1.507  -0.000\\nN         33.030  -0.280   0.000\\nH         33.155  -1.282   0.000\\nC         34.211   0.560   0.000\\nH         34.209   1.189  -0.890\\nC         34.246   1.458   1.232\\nH         33.363   2.097   1.241\\nH         34.256   0.842   2.131\\nC         35.502   2.325   1.195\\nO         35.413   3.443   0.620\\nO         36.539   1.861   1.741\\nC         35.480  -0.280   0.000\\nO         35.416  -1.507   0.000\\n';\n",
       "    var molecule = ChemDoodle.readXYZ(molfile, 1);\n",
       "    cwc_3OvVbk2Z.loadMolecule(molecule);\n",
       "</script>\n",
       "</div>\n"
      ],
      "text/plain": [
       "(ATOM      1    N GLY    1  N -> [2, 3]\n",
       "ATOM      2    H GLY    1  H -> [1]\n",
       "ATOM      3   CA GLY    1  C -> [4, 1, 5, 6]\n",
       "ATOM      4  HA1 GLY    1  H -> [3]\n",
       "ATOM      5  HA2 GLY    1  H -> [3]\n",
       "ATOM      6    C GLY    1  C -> [7, 3, 8]\n",
       "ATOM      7    O GLY    1  O -> [6]\n",
       "ATOM      8    N ASP    2  N -> [9, 10, 6]\n",
       "ATOM      9    H ASP    2  H -> [8]\n",
       "ATOM     10   CA ASP    2  C -> [18, 11, 8, 12]\n",
       "ATOM     11   HA ASP    2  H -> [10]\n",
       "ATOM     12   CB ASP    2  C -> [14, 15, 13, 10]\n",
       "ATOM     13  HB1 ASP    2  H -> [12]\n",
       "ATOM     14  HB2 ASP    2  H -> [12]\n",
       "ATOM     15   CG ASP    2  C -> [16, 17, 12]\n",
       "ATOM     16  OD1 ASP    2  O -> [15]\n",
       "ATOM     17  OD2 ASP    2  O -> [15]\n",
       "ATOM     18    C ASP    2  C -> [10, 19, 20]\n",
       "ATOM     19    O ASP    2  O -> [18]\n",
       "ATOM     20    N GLY    3  N -> [21, 22, 18]\n",
       "ATOM     21    H GLY    3  H -> [20]\n",
       "ATOM     22   CA GLY    3  C -> [23, 20, 24, 25]\n",
       "ATOM     23  HA1 GLY    3  H -> [22]\n",
       "ATOM     24  HA2 GLY    3  H -> [22]\n",
       "ATOM     25    C GLY    3  C -> [26, 22, 27]\n",
       "ATOM     26    O GLY    3  O -> [25]\n",
       "ATOM     27    N ASP    4  N -> [28, 29, 25]\n",
       "ATOM     28    H ASP    4  H -> [27]\n",
       "ATOM     29   CA ASP    4  C -> [37, 30, 27, 31]\n",
       "ATOM     30   HA ASP    4  H -> [29]\n",
       "ATOM     31   CB ASP    4  C -> [33, 34, 32, 29]\n",
       "ATOM     32  HB1 ASP    4  H -> [31]\n",
       "ATOM     33  HB2 ASP    4  H -> [31]\n",
       "ATOM     34   CG ASP    4  C -> [35, 36, 31]\n",
       "ATOM     35  OD1 ASP    4  O -> [34]\n",
       "ATOM     36  OD2 ASP    4  O -> [34]\n",
       "ATOM     37    C ASP    4  C -> [29, 38, 39]\n",
       "ATOM     38    O ASP    4  O -> [37]\n",
       "ATOM     39    N GLY    5  N -> [40, 41, 37]\n",
       "ATOM     40    H GLY    5  H -> [39]\n",
       "ATOM     41   CA GLY    5  C -> [42, 39, 43, 44]\n",
       "ATOM     42  HA1 GLY    5  H -> [41]\n",
       "ATOM     43  HA2 GLY    5  H -> [41]\n",
       "ATOM     44    C GLY    5  C -> [45, 41, 46]\n",
       "ATOM     45    O GLY    5  O -> [44]\n",
       "ATOM     46    N ASP    6  N -> [47, 48, 44]\n",
       "ATOM     47    H ASP    6  H -> [46]\n",
       "ATOM     48   CA ASP    6  C -> [56, 49, 46, 50]\n",
       "ATOM     49   HA ASP    6  H -> [48]\n",
       "ATOM     50   CB ASP    6  C -> [52, 53, 51, 48]\n",
       "ATOM     51  HB1 ASP    6  H -> [50]\n",
       "ATOM     52  HB2 ASP    6  H -> [50]\n",
       "ATOM     53   CG ASP    6  C -> [54, 55, 50]\n",
       "ATOM     54  OD1 ASP    6  O -> [53]\n",
       "ATOM     55  OD2 ASP    6  O -> [53]\n",
       "ATOM     56    C ASP    6  C -> [48, 57, 58]\n",
       "ATOM     57    O ASP    6  O -> [56]\n",
       "ATOM     58    N GLY    7  N -> [59, 60, 56]\n",
       "ATOM     59    H GLY    7  H -> [58]\n",
       "ATOM     60   CA GLY    7  C -> [61, 58, 62, 63]\n",
       "ATOM     61  HA1 GLY    7  H -> [60]\n",
       "ATOM     62  HA2 GLY    7  H -> [60]\n",
       "ATOM     63    C GLY    7  C -> [64, 60, 65]\n",
       "ATOM     64    O GLY    7  O -> [63]\n",
       "ATOM     65    N ASP    8  N -> [66, 67, 63]\n",
       "ATOM     66    H ASP    8  H -> [65]\n",
       "ATOM     67   CA ASP    8  C -> [75, 68, 65, 69]\n",
       "ATOM     68   HA ASP    8  H -> [67]\n",
       "ATOM     69   CB ASP    8  C -> [71, 72, 70, 67]\n",
       "ATOM     70  HB1 ASP    8  H -> [69]\n",
       "ATOM     71  HB2 ASP    8  H -> [69]\n",
       "ATOM     72   CG ASP    8  C -> [73, 74, 69]\n",
       "ATOM     73  OD1 ASP    8  O -> [72]\n",
       "ATOM     74  OD2 ASP    8  O -> [72]\n",
       "ATOM     75    C ASP    8  C -> [67, 76, 77]\n",
       "ATOM     76    O ASP    8  O -> [75]\n",
       "ATOM     77    N ALA    9  N -> [78, 79, 75]\n",
       "ATOM     78    H ALA    9  H -> [77]\n",
       "ATOM     79   CA ALA    9  C -> [80, 85, 77, 81]\n",
       "ATOM     80   HA ALA    9  H -> [79]\n",
       "ATOM     81   CB ALA    9  C -> [83, 79, 82, 84]\n",
       "ATOM     82  HB1 ALA    9  H -> [81]\n",
       "ATOM     83  HB2 ALA    9  H -> [81]\n",
       "ATOM     84  HB3 ALA    9  H -> [81]\n",
       "ATOM     85    C ALA    9  C -> [79, 86, 87]\n",
       "ATOM     86    O ALA    9  O -> [85]\n",
       "ATOM     87    N ASP   10  N -> [88, 89, 85]\n",
       "ATOM     88    H ASP   10  H -> [87]\n",
       "ATOM     89   CA ASP   10  C -> [97, 90, 87, 91]\n",
       "ATOM     90   HA ASP   10  H -> [89]\n",
       "ATOM     91   CB ASP   10  C -> [93, 94, 92, 89]\n",
       "ATOM     92  HB1 ASP   10  H -> [91]\n",
       "ATOM     93  HB2 ASP   10  H -> [91]\n",
       "ATOM     94   CG ASP   10  C -> [95, 96, 91]\n",
       "ATOM     95  OD1 ASP   10  O -> [94]\n",
       "ATOM     96  OD2 ASP   10  O -> [94]\n",
       "ATOM     97    C ASP   10  C -> [89, 98]\n",
       "ATOM     98    O ASP   10  O -> [97]\n",
       ", State{Float64}(98, [0.0 0.28 -0.0; 0.130967 1.28086 -0.0; … ; 35.4804 -0.28 0.0; 35.4163 -1.50718 0.0], nothing, nothing, ProtoSyn.Energy{Float64}(NaN, Dict{Symbol,Float64}())))"
      ]
     },
     "execution_count": 37,
     "metadata": {},
     "output_type": "execute_result"
    }
   ],
   "source": [
    "(mol,state)"
   ]
  },
  {
   "cell_type": "code",
   "execution_count": 24,
   "metadata": {},
   "outputs": [
    {
     "name": "stdout",
     "output_type": "stream",
     "text": [
      "[8, 18, 10, 20]\n"
     ]
    }
   ],
   "source": [
    "ProtoSyn.cproduct(println, mol.residues[2], (\"N\",\"C\",\"CA\",\"+N\"))"
   ]
  },
  {
   "cell_type": "code",
   "execution_count": 39,
   "metadata": {},
   "outputs": [
    {
     "name": "stderr",
     "output_type": "stream",
     "text": [
      "WARNING: replacing module XMLRPC.\n"
     ]
    },
    {
     "data": {
      "text/plain": [
       "Main.XMLRPC"
      ]
     },
     "execution_count": 39,
     "metadata": {},
     "output_type": "execute_result"
    }
   ],
   "source": [
    "include(\"test/xmlrpc.jl\")"
   ]
  },
  {
   "cell_type": "code",
   "execution_count": 40,
   "metadata": {},
   "outputs": [],
   "source": [
    "io = IOBuffer()\n",
    "write(io, mol, state)\n",
    "pdb = String(take!(io))\n",
    "close(io)"
   ]
  },
  {
   "cell_type": "code",
   "execution_count": 28,
   "metadata": {},
   "outputs": [
    {
     "data": {
      "text/plain": [
       "HTTP.Messages.Response:\n",
       "\"\"\"\n",
       "HTTP/1.0 200 OK\r\n",
       "Server: BaseHTTP/0.3 Python/2.7.13\r\n",
       "Date: Tue, 08 Oct 2019 13:51:08 GMT\r\n",
       "Content-type: text/xml\r\n",
       "Content-length: 122\r\n",
       "\r\n",
       "<?xml version='1.0'?>\n",
       "<methodResponse>\n",
       "<params>\n",
       "<param>\n",
       "<value><int>-1</int></value>\n",
       "</param>\n",
       "</params>\n",
       "</methodResponse>\n",
       "\"\"\""
      ]
     },
     "execution_count": 28,
     "metadata": {},
     "output_type": "execute_result"
    }
   ],
   "source": [
    "XMLRPC.proxy.read_pdbstr(pdb, \"ola\")"
   ]
  },
  {
   "cell_type": "code",
   "execution_count": 43,
   "metadata": {},
   "outputs": [
    {
     "ename": "LoadError",
     "evalue": "UndefVarError: @pymol not defined",
     "output_type": "error",
     "traceback": [
      "UndefVarError: @pymol not defined",
      ""
     ]
    }
   ],
   "source": [
    "@ProtoSyn.pymol \"ola\" ProtoSyn.set!(state, mol, dihedrals[12], deg2rad(-90.0))"
   ]
  },
  {
   "cell_type": "code",
   "execution_count": null,
   "metadata": {},
   "outputs": [],
   "source": [
    "ProtoSyn.@"
   ]
  }
 ],
 "metadata": {
  "kernelspec": {
   "display_name": "Julia 1.1.0",
   "language": "julia",
   "name": "julia-1.1"
  },
  "language_info": {
   "file_extension": ".jl",
   "mimetype": "application/julia",
   "name": "julia",
   "version": "1.1.0"
  }
 },
 "nbformat": 4,
 "nbformat_minor": 2
}
