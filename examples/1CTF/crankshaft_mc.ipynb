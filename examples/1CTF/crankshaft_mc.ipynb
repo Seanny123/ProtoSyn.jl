{
 "cells": [
  {
   "cell_type": "markdown",
   "metadata": {},
   "source": [
    "# Dihedral & Crankshaft Monte Carlo example\n",
    "\n",
    "In this example, the 1CTF protein sequence will be used in a Monte Carlo simulation. For this example, the protein dihedrals will be randomly rotated by bpth dihedral and crankshaft movements. Crankshaft movements rotate all atoms in between two alpha carbons by a set angle. The new conformation will then be evaluated by calculating the energy according to the Amber forcefield. Secondary structure blocks defined in the input files will not be tempered with, remaining as unified blocks, and the step_size for new movements will de adjusted at every step using a **CallbackObject**."
   ]
  },
  {
   "cell_type": "code",
   "execution_count": 1,
   "metadata": {},
   "outputs": [
    {
     "data": {
      "text/html": [
       "<script src=\"https://hub.chemdoodle.com/cwc/latest/ChemDoodleWeb.js\"></script>\n",
       "<script charset=\"utf-8\" type='text/javascript'>\n",
       "window.CWC_WIDTH=600;\n",
       "window.CWC_HEIGHT=400;\n",
       "function set_chemdoodle_size(w,h) {\n",
       "    window.CWC_WIDTH = w;\n",
       "    window.CWC_HEIGHT = h;\n",
       "}\n",
       "</script>\n"
      ]
     },
     "metadata": {},
     "output_type": "display_data"
    }
   ],
   "source": [
    "using ProtoSyn;\n",
    "using LinearAlgebra;\n",
    "using Printf;"
   ]
  },
  {
   "cell_type": "markdown",
   "metadata": {},
   "source": [
    "## 1. Load a state\n",
    "\n",
    "The first step is to load a starting state from a structural file. ProtoSyn enables loading of coordinates from several standardized file extensions, such as PDB. In this example, the `1ctf.pdb` file was produced using an auxiliar tool that places the amicoacid sequence in a straight configuration, with all dihedrals as 180º. This will be the simulation starting point."
   ]
  },
  {
   "cell_type": "code",
   "execution_count": 2,
   "metadata": {},
   "outputs": [],
   "source": [
    "state = Common.load_from_pdb(\"data/1ctf.pdb\");\n",
    "state.energy = Forcefield.Amber.Energy();"
   ]
  },
  {
   "cell_type": "markdown",
   "metadata": {},
   "source": [
    "## 2. (Optional) Apply secondary structure\n",
    "\n",
    "For this particular example, we want to rotate the `coil` aminoacids only, leaving the native secondary structure untamperd with. For this, a topology file must be loaded, containing information about the dihedrals and residues in the molecule. This file also contains information about the secondary structure of each aminoacid. After loading the topology, each PHI and PSI dihedral in the molecule will undergo rotation to apply alpha helix and beta sheets angles. Altough not necessary, a filtering system is exemplified here, easily identifying only the backbone dihedrals."
   ]
  },
  {
   "cell_type": "code",
   "execution_count": 3,
   "metadata": {},
   "outputs": [],
   "source": [
    "mc_topology = Aux.read_JSON(\"data/1ctf_mc_top.json\");\n",
    "dihedrals, residues = Common.load_topology(mc_topology);\n",
    "bb_dihedrals = filter(x -> x.dtype < Common.omega, dihedrals);\n",
    "Common.apply_initial_conf!(state, bb_dihedrals)"
   ]
  },
  {
   "cell_type": "markdown",
   "metadata": {},
   "source": [
    "## 3. (Optional) Fix the damn Prolines\n",
    "\n",
    "Let's be honest here: nobody likes the Prolines. They are weird and ugly. This function will most likely be fixed in later versions of the ProtoSyn library."
   ]
  },
  {
   "cell_type": "code",
   "execution_count": 4,
   "metadata": {},
   "outputs": [],
   "source": [
    "Common.fix_proline(state, dihedrals);"
   ]
  },
  {
   "cell_type": "markdown",
   "metadata": {},
   "source": [
    "## 4. Define the Sampler\n",
    "\n",
    "For this example, a combination of two **Mutators** will be employed in a single **Sampler**. Moreover, notice that the unnamed `angle_sampler` uses the `mutator.step_size` as input to adjust the degree of change in the conformation."
   ]
  },
  {
   "cell_type": "code",
   "execution_count": 6,
   "metadata": {},
   "outputs": [
    {
     "data": {
      "text/plain": [
       "my_sampler! (generic function with 1 method)"
      ]
     },
     "execution_count": 6,
     "metadata": {},
     "output_type": "execute_result"
    }
   ],
   "source": [
    "bb_nb_dihedrals = filter(x -> x.dtype < Common.omega && Int(x.residue.ss) < 1, dihedrals);\n",
    "dihedral_mutator = Mutators.Dihedral.DihedralMutator(bb_nb_dihedrals, () -> (rand() * 2 - 1 * dihedral_mutator.step_size), 0.01, 0.01);\n",
    "crankshaft_mutator = Mutators.Crankshaft.CrankshaftMutator(bb_nb_dihedrals, () -> (rand() * 2 - 1 * crankshaft_mutator.step_size), 0.005, 0.01);\n",
    "function my_sampler!(st::Common.State)\n",
    "    Mutators.Dihedral.run!(st, dihedral_mutator)\n",
    "    Mutators.Crankshaft.run!(st, crankshaft_mutator)\n",
    "end"
   ]
  },
  {
   "cell_type": "markdown",
   "metadata": {},
   "source": [
    "## 5. Define the Evaluator\n",
    "\n",
    "In a Monte Carlo simulation, the new conformation generated by the Sampler needs to be evaluated so it can be accepted, or not. In this example, the total system energy will be calculated according to the Amber forcefield. For this, ProtoSyn needs to have access to information regarding the bonds, angles, dihedrals and non-bonded interactions of the molecule, avaliable by loading a topology file."
   ]
  },
  {
   "cell_type": "code",
   "execution_count": 7,
   "metadata": {},
   "outputs": [
    {
     "data": {
      "text/plain": [
       "my_evaluator! (generic function with 1 method)"
      ]
     },
     "execution_count": 7,
     "metadata": {},
     "output_type": "execute_result"
    }
   ],
   "source": [
    "topology = Forcefield.Amber.load_from_json(\"data/1ctf_amber_top.json\")\n",
    "function my_evaluator!(st::Common.State, do_forces::Bool)\n",
    "    energy = Forcefield.Amber.evaluate!(topology, st, cut_off=1.2, do_forces=do_forces)\n",
    "    return energy\n",
    "end"
   ]
  },
  {
   "cell_type": "markdown",
   "metadata": {},
   "source": [
    "## 6. Define the Driver\n",
    "\n",
    "At this point, the system is ready to run. "
   ]
  },
  {
   "cell_type": "code",
   "execution_count": 9,
   "metadata": {},
   "outputs": [
    {
     "data": {
      "text/plain": [
       "MonteCarloDriver(sampler=my_sampler! evaluator=my_evaluator!, temperature=500.0, n_steps=1000)"
      ]
     },
     "execution_count": 9,
     "metadata": {},
     "output_type": "execute_result"
    }
   ],
   "source": [
    "mc_driver = Drivers.MonteCarlo.MonteCarloDriver(my_sampler!, my_evaluator!, temperature=500.0, n_steps=1000)"
   ]
  },
  {
   "cell_type": "markdown",
   "metadata": {},
   "source": [
    "## 7. (Optional) Define the Callbacks\n",
    "\n",
    "Altough the system is ready to run, no output is being printed. In order to gain access to the inner working of the **Driver** callbacks need to be defined. More than one **CallbackObject**s can be defined, with independent call frequencies and functions. For this example, three callbacks will be prepared:\n",
    "1. callback1 will be responsible to print the system status every 100 steps.\n",
    "2. callback2 will print the current structure to a .xyz file every 100 steps.\n",
    "3. callback3 makes use of the first `Vararg` made available by the MonteCarlo Driver (`acceptance_ratio`) to adjust the system's `step_size` so that, on average, 20% of the tried conformations are accepted."
   ]
  },
  {
   "cell_type": "code",
   "execution_count": 10,
   "metadata": {},
   "outputs": [
    {
     "data": {
      "text/plain": [
       "CallbackObject(freq=100, callback=cb_status)"
      ]
     },
     "execution_count": 10,
     "metadata": {},
     "output_type": "execute_result"
    }
   ],
   "source": [
    "callback1 = @Common.callback 100 function cb_status(step::Int64, st::Common.State, dr::Drivers.MonteCarlo.MonteCarloDriver, args...)\n",
    "    write(stdout, @sprintf \"(MC) Step: %4d | Energy: %.4ef | D step: %.3e | CS step: %.3e | AR: %.2f\\n\" step state.energy.eTotal dihedral_mutator.step_size crankshaft_mutator.step_size args[1])\n",
    "end"
   ]
  },
  {
   "cell_type": "code",
   "execution_count": 11,
   "metadata": {},
   "outputs": [
    {
     "data": {
      "text/plain": [
       "CallbackObject(freq=100, callback=cb_print)"
      ]
     },
     "execution_count": 11,
     "metadata": {},
     "output_type": "execute_result"
    }
   ],
   "source": [
    "file_xyz = open(\"out/trajectory.pdb\", \"w\")\n",
    "callback2 = @Common.callback 100 function cb_print(step::Int64, st::Common.State, dr::Drivers.MonteCarlo.MonteCarloDriver, args...)\n",
    "    Print.as_pdb(file_xyz, st, step = step)\n",
    "end"
   ]
  },
  {
   "cell_type": "code",
   "execution_count": 12,
   "metadata": {},
   "outputs": [
    {
     "data": {
      "text/plain": [
       "CallbackObject(freq=1, callback=cb_adjust_step_size)"
      ]
     },
     "execution_count": 12,
     "metadata": {},
     "output_type": "execute_result"
    }
   ],
   "source": [
    "callback3 = @Common.callback 1 function cb_adjust_step_size(step::Int64, st::Common.State, dr::Drivers.MonteCarlo.MonteCarloDriver, args...)\n",
    "    acceptance_ratio = 0.2\n",
    "    if args[1] > acceptance_ratio\n",
    "        dihedral_mutator.step_size * 1.05 < π ? dihedral_mutator.step_size *= 1.05 : dihedral_mutator.step_size = π\n",
    "        crankshaft_mutator.step_size * 1.1 < π ? crankshaft_mutator.step_size *= 1.1 : crankshaft_mutator.step_size = π\n",
    "    else\n",
    "        dihedral_mutator.step_size * 0.95 > 1e-5 ? dihedral_mutator.step_size *= 0.95 : dihedral_mutator.step_size = 1e-5\n",
    "        crankshaft_mutator.step_size * 0.9 > 1e-5 ? crankshaft_mutator.step_size *= 0.9 : crankshaft_mutator.step_size = 1e-5\n",
    "    end\n",
    "end"
   ]
  },
  {
   "cell_type": "markdown",
   "metadata": {},
   "source": [
    "## 8. Make science!\n",
    "\n",
    "The set up of the system is complete, run the **Driver** and analyse the output!"
   ]
  },
  {
   "cell_type": "code",
   "execution_count": 13,
   "metadata": {},
   "outputs": [
    {
     "name": "stdout",
     "output_type": "stream",
     "text": [
      "(MC) Step:  100 | Energy: 6.5351e+05f | D step: 1.027e-03 | CS step: 8.132e-05 | AR: 0.17\n",
      "(MC) Step:  200 | Energy: 2.8913e+05f | D step: 1.002e-04 | CS step: 1.000e-05 | AR: 0.18\n",
      "(MC) Step:  300 | Energy: 1.2691e+05f | D step: 1.000e-05 | CS step: 1.000e-05 | AR: 0.17\n",
      "(MC) Step:  400 | Energy: 1.2813e+05f | D step: 1.000e-05 | CS step: 1.000e-05 | AR: 0.16\n",
      "(MC) Step:  500 | Energy: 1.1260e+05f | D step: 1.000e-05 | CS step: 1.000e-05 | AR: 0.16\n",
      "(MC) Step:  600 | Energy: 1.1280e+05f | D step: 1.000e-05 | CS step: 1.000e-05 | AR: 0.16\n",
      "(MC) Step:  700 | Energy: 1.1082e+05f | D step: 1.000e-05 | CS step: 1.000e-05 | AR: 0.17\n",
      "(MC) Step:  800 | Energy: 1.1213e+05f | D step: 1.000e-05 | CS step: 1.000e-05 | AR: 0.17\n",
      "(MC) Step:  900 | Energy: 1.0412e+05f | D step: 1.000e-05 | CS step: 1.000e-05 | AR: 0.17\n",
      "(MC) Step: 1000 | Energy: 9.8113e+04f | D step: 1.000e-05 | CS step: 1.000e-05 | AR: 0.17\n"
     ]
    }
   ],
   "source": [
    "Drivers.MonteCarlo.run!(state, mc_driver, callback1, callback2, callback3)\n",
    "close(file_xyz)"
   ]
  },
  {
   "cell_type": "code",
   "execution_count": null,
   "metadata": {},
   "outputs": [],
   "source": []
  }
 ],
 "metadata": {
  "kernelspec": {
   "display_name": "Julia 1.0.0",
   "language": "julia",
   "name": "julia-1.0"
  },
  "language_info": {
   "file_extension": ".jl",
   "mimetype": "application/julia",
   "name": "julia",
   "version": "1.0.0"
  }
 },
 "nbformat": 4,
 "nbformat_minor": 2
}
