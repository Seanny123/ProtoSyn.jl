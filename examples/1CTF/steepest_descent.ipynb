{
 "cells": [
  {
   "cell_type": "markdown",
   "metadata": {},
   "source": [
    "# Steepest Descent Example\n",
    "\n",
    "In this example, the 1CTF protein sequence will be used to exemplify the ProtoSyn Steepest Descent Driver. The protein dihedrals will be approximated to the native structure, causing some overlaps in the process. Using a Steepest Descent algorithm, ProtoSyn is then able to relax the structure and the conflicts."
   ]
  },
  {
   "cell_type": "code",
   "execution_count": 1,
   "metadata": {},
   "outputs": [
    {
     "data": {
      "text/html": [
       "<script src=\"https://hub.chemdoodle.com/cwc/latest/ChemDoodleWeb.js\"></script>\n",
       "<script charset=\"utf-8\" type='text/javascript'>\n",
       "window.CWC_WIDTH=600;\n",
       "window.CWC_HEIGHT=400;\n",
       "function set_chemdoodle_size(w,h) {\n",
       "    window.CWC_WIDTH = w;\n",
       "    window.CWC_HEIGHT = h;\n",
       "}\n",
       "</script>\n"
      ]
     },
     "metadata": {},
     "output_type": "display_data"
    }
   ],
   "source": [
    "using ProtoSyn;\n",
    "using LinearAlgebra;\n",
    "using Printf;"
   ]
  },
  {
   "cell_type": "markdown",
   "metadata": {},
   "source": [
    "## 1. Load a state\n",
    "\n",
    "The first step is to load a starting state from a structural file. ProtoSyn enables loading of coordinates from several standardized file extensions, such as PDB. In this example, the `1ctf.pdb` file was produced using an auxiliar tool that places the amicoacid sequence in a straight configuration, with all dihedrals as 180º. This will be the simulation starting point. "
   ]
  },
  {
   "cell_type": "code",
   "execution_count": 2,
   "metadata": {},
   "outputs": [],
   "source": [
    "state = Common.load_from_pdb(\"data/1ctf.pdb\");\n",
    "state.energy = Forcefield.Amber.Energy();"
   ]
  },
  {
   "cell_type": "markdown",
   "metadata": {},
   "source": [
    "## 2. (Optional) Apply dihedrals from a second structural file\n",
    "\n",
    "For this particular example, the native structure of the 1CTF protein will be used as a template to apply the dihedral angles to the loaded `State`, approximating the 2 structures."
   ]
  },
  {
   "cell_type": "code",
   "execution_count": 3,
   "metadata": {},
   "outputs": [],
   "source": [
    "mc_topology = Aux.read_JSON(\"data/1ctf_mc_top.json\");\n",
    "dihedrals, residues = Common.load_topology(mc_topology);\n",
    "bb_dihedrals = filter(x -> x.dtype < Common.omega, dihedrals);\n",
    "Common.apply_dihedrals_from_file(state, bb_dihedrals, \"data/1ctf_native.pdb\");"
   ]
  },
  {
   "cell_type": "markdown",
   "metadata": {},
   "source": [
    "## 3. (Optional) Fix the damn Prolines\n",
    "\n",
    "Let's be honest here: nobody likes the Prolines. They are weird and ugly. This function will most likely be fixed in later versions of the ProtoSyn library."
   ]
  },
  {
   "cell_type": "code",
   "execution_count": 4,
   "metadata": {},
   "outputs": [],
   "source": [
    "Common.fix_proline(state, dihedrals);"
   ]
  },
  {
   "cell_type": "markdown",
   "metadata": {},
   "source": [
    "## 4. Define the Evaluator\n",
    "\n",
    "In any Steepest Descent algorithm, the direction of the system is defined by the evolution of the energy. The **evaluator** here is responsible to calculate the energy. In this example, the Amber forcefield will be employed. For this, ProtoSyn needs to have access to information regarding the bonds, angles, dihedrals and non-bonded interactions of the molecule, avaliable by loading a topology file."
   ]
  },
  {
   "cell_type": "code",
   "execution_count": 5,
   "metadata": {},
   "outputs": [
    {
     "data": {
      "text/plain": [
       "my_evaluator! (generic function with 1 method)"
      ]
     },
     "execution_count": 5,
     "metadata": {},
     "output_type": "execute_result"
    }
   ],
   "source": [
    "topology = Forcefield.Amber.load_from_json(\"data/1ctf_amber_top.json\");\n",
    "function my_evaluator!(st::Common.State, do_forces::Bool)\n",
    "    energy = Forcefield.Amber.evaluate!(topology, st, cut_off=1.0, do_forces=do_forces)\n",
    "    return energy\n",
    "end"
   ]
  },
  {
   "cell_type": "markdown",
   "metadata": {},
   "source": [
    "## 5. Define the Driver\n",
    "\n",
    "At this point, the system is ready to run. A **Driver** is a predefined way of incorporating the **Evaluator** in order to take the system from one stage to the next, for a certain amount of steps or until the convergence criteria are met. In this example, the SteepestDescentDriver will be employed, that evaluates the energy **and forces** of the system, relaxing the bonds, angles, dihedrals and non-bonded interactions of the molecule."
   ]
  },
  {
   "cell_type": "code",
   "execution_count": 6,
   "metadata": {},
   "outputs": [
    {
     "data": {
      "text/plain": [
       "SteepestDescentDriver(evaluator=my_evaluator!, n_steps=1000, f_tol=0.02)"
      ]
     },
     "execution_count": 6,
     "metadata": {},
     "output_type": "execute_result"
    }
   ],
   "source": [
    "sd_driver = Drivers.SteepestDescent.SteepestDescentDriver(my_evaluator!, n_steps = 1000, f_tol = 0.02)"
   ]
  },
  {
   "cell_type": "markdown",
   "metadata": {},
   "source": [
    "## 6. (Optional) Define the Callbacks\n",
    "\n",
    "Altough the system is ready to run, no output is being printed. In order to gain access to the inner working of the **Driver** callbacks need to be defined.\n",
    "The **CallbackObject** will print the current structure to a .pdb file and the system status to the terminal every 25 steps."
   ]
  },
  {
   "cell_type": "code",
   "execution_count": 7,
   "metadata": {},
   "outputs": [
    {
     "data": {
      "text/plain": [
       "CallbackObject(freq=100, callback=callback_status)"
      ]
     },
     "execution_count": 7,
     "metadata": {},
     "output_type": "execute_result"
    }
   ],
   "source": [
    "file_xyz = open(\"out/trajectory.pdb\", \"w\")\n",
    "my_callback = @Common.callback 100 function callback_status(step::Int64, st::Common.State, dr::Drivers.SteepestDescent.SteepestDescentDriver, args...)\n",
    "    write(stdout, @sprintf \"(SD) Step: %4d | Energy: %4.4e | Max Force: %4.4e | Gamma: %4.4e\\n\" step state.energy.eTotal args[1] args[2])\n",
    "    Print.as_pdb(file_xyz, st, step=step)\n",
    "end"
   ]
  },
  {
   "cell_type": "markdown",
   "metadata": {},
   "source": [
    "## 7. Make science!\n",
    "\n",
    "The set up of the system is complete, run the **Driver** and analyse the output!"
   ]
  },
  {
   "cell_type": "code",
   "execution_count": 8,
   "metadata": {},
   "outputs": [
    {
     "name": "stdout",
     "output_type": "stream",
     "text": [
      "(SD) Step:    0 | Energy: 1.4112e+11 | Max Force: 1.4371e+13 | Gamma: 1.0000e+00\n",
      "(SD) Step:  100 | Energy: 1.1167e+04 | Max Force: 1.6587e+04 | Gamma: 1.3621e-02\n",
      "(SD) Step:  200 | Energy: 6.7035e+03 | Max Force: 1.0554e+03 | Gamma: 3.8597e-10\n",
      "Gamma below machine precision! Exiting ...\n",
      "\n"
     ]
    }
   ],
   "source": [
    "Drivers.SteepestDescent.run!(state, sd_driver, my_callback)\n",
    "close(file_xyz)"
   ]
  },
  {
   "cell_type": "code",
   "execution_count": null,
   "metadata": {},
   "outputs": [],
   "source": []
  }
 ],
 "metadata": {
  "kernelspec": {
   "display_name": "Julia 1.0.0",
   "language": "julia",
   "name": "julia-1.0"
  },
  "language_info": {
   "file_extension": ".jl",
   "mimetype": "application/julia",
   "name": "julia",
   "version": "1.0.0"
  }
 },
 "nbformat": 4,
 "nbformat_minor": 2
}
