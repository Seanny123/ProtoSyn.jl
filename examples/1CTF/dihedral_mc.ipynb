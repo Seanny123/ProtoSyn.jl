{
 "cells": [
  {
   "cell_type": "markdown",
   "metadata": {},
   "source": [
    "# Dihedral Monte Carlo example\n",
    "\n",
    "In this example, the 1CTF protein sequence will be used in a Monte Carlo simulation, showing the basics of the ProtoSyn library. For this example, the protein dihedrals will be randomly rotated and the new conformation will be evaluated by calculating the energy according to the Amber forcefield. However, secondary structure blocks defined in the input files will not be tempered with, remaining as unified blocks. "
   ]
  },
  {
   "cell_type": "code",
   "execution_count": 1,
   "metadata": {},
   "outputs": [
    {
     "data": {
      "text/html": [
       "<script src=\"https://hub.chemdoodle.com/cwc/latest/ChemDoodleWeb.js\"></script>\n",
       "<script charset=\"utf-8\" type='text/javascript'>\n",
       "window.CWC_WIDTH=600;\n",
       "window.CWC_HEIGHT=400;\n",
       "function set_chemdoodle_size(w,h) {\n",
       "    window.CWC_WIDTH = w;\n",
       "    window.CWC_HEIGHT = h;\n",
       "}\n",
       "</script>\n"
      ]
     },
     "metadata": {},
     "output_type": "display_data"
    }
   ],
   "source": [
    "using ProtoSyn;\n",
    "using LinearAlgebra;\n",
    "using Printf;"
   ]
  },
  {
   "cell_type": "markdown",
   "metadata": {},
   "source": [
    "## 1. Load a state\n",
    "\n",
    "The first step is to load a starting state from a structural file. ProtoSyn enables loading of coordinates from several standardized file extensions, such as PDB. In this example, the `1ctf.pdb` file was produced using an auxiliar tool that places the amicoacid sequence in a straight configuration, with all dihedrals as 180º. This will be the simulation starting point. "
   ]
  },
  {
   "cell_type": "code",
   "execution_count": 2,
   "metadata": {},
   "outputs": [],
   "source": [
    "state = Common.load_from_pdb(\"data/1ctf.pdb\");\n",
    "state.energy = Forcefield.Amber.Energy();"
   ]
  },
  {
   "cell_type": "markdown",
   "metadata": {},
   "source": [
    "## 2. (Optional) Apply secondary structure\n",
    "\n",
    "For this particular example, we want to rotate the `coil` aminoacids only, leaving the native secondary structure untamperd with. For this, a topology file must be loaded, containing information about the dihedrals and residues in the molecule. This file also contains information about the secondary structure of each aminoacid. After loading the topology, each PHI and PSI dihedral in the molecule will undergo rotation to apply alpha helix and beta sheets angles. Altough not necessary, a filtering system is exemplified here, easily identifying only the backbone dihedrals."
   ]
  },
  {
   "cell_type": "code",
   "execution_count": 3,
   "metadata": {},
   "outputs": [],
   "source": [
    "mc_topology = Aux.read_JSON(\"data/1ctf_mc_top.json\");\n",
    "dihedrals, residues = Common.load_topology(mc_topology);\n",
    "bb_dihedrals = filter(x -> x.dtype < Common.omega, dihedrals);\n",
    "Common.apply_ss!(state, bb_dihedrals, "CEEEEEEECCCCHHHHHHHHHHHHCCCHHHHHHHHHCCCEEEEEEECHHHHHHHHHHHHHHCCEEEEC")"
   ]
  },
  {
   "cell_type": "markdown",
   "metadata": {},
   "source": [
    "## 3. (Optional) Fix the damn Prolines\n",
    "\n",
    "Let's be honest here: nobody likes the Prolines. They are weird and ugly. This function will most likely be fixed in later versions of the ProtoSyn library."
   ]
  },
  {
   "cell_type": "code",
   "execution_count": 4,
   "metadata": {},
   "outputs": [],
   "source": [
    "Common.fix_proline!(state, dihedrals);"
   ]
  },
  {
   "cell_type": "markdown",
   "metadata": {},
   "source": [
    "## 4. Define the Sampler\n",
    "\n",
    "A **Mutator** is responsible to introduce a single change in the system. ProtoSyn provides several Mutators, and for this example a DihedralMutator will be used. a filter is applied in order to only rotate the backbone dihedrals that are not in helixes or sheets (ignoring the side-chain dihedrals). Further information regarding the DihedralMutator parameters can be found in the documentation.\n",
    "\n",
    "A **Sampler** is a function with a specific signature, and can be, for example, an aggregation of several Mutators. In this example, it is simply the DihedralMutator."
   ]
  },
  {
   "cell_type": "code",
   "execution_count": 5,
   "metadata": {},
   "outputs": [
    {
     "data": {
      "text/plain": [
       "DihedralMutator(dihedrals=28, angle_sampler=randn, p_mut=0.1, step_size=1.0)"
      ]
     },
     "execution_count": 5,
     "metadata": {},
     "output_type": "execute_result"
    }
   ],
   "source": [
    "bb_nb_dihedrals = filter(x -> x.dtype < Common.omega && Int(x.residue.ss) < 1, dihedrals);\n",
    "dihedral_mutator = Mutators.Dihedral.DihedralMutator(bb_nb_dihedrals, randn, 0.1, 1.0)"
   ]
  },
  {
   "cell_type": "code",
   "execution_count": 6,
   "metadata": {},
   "outputs": [
    {
     "data": {
      "text/plain": [
       "my_sampler! (generic function with 1 method)"
      ]
     },
     "execution_count": 6,
     "metadata": {},
     "output_type": "execute_result"
    }
   ],
   "source": [
    "function my_sampler!(st::Common.State)\n",
    "    Mutators.Dihedral.run!(st, dihedral_mutator)\n",
    "end"
   ]
  },
  {
   "cell_type": "markdown",
   "metadata": {},
   "source": [
    "## 5. Define the Evaluator\n",
    "\n",
    "In a Monte Carlo simulation, the new conformation generated by the Sampler needs to be evaluated so it can be accepted, or not. This evaluation can be an assortment of functions of all types. In this example, the total system energy will be calculated according to the Amber forcefield. For this, ProtoSyn needs to have access to information regarding the bonds, angles, dihedrals and non-bonded interactions of the molecule, avaliable by loading a topology file."
   ]
  },
  {
   "cell_type": "code",
   "execution_count": 7,
   "metadata": {},
   "outputs": [
    {
     "data": {
      "text/plain": [
       "my_evaluator! (generic function with 1 method)"
      ]
     },
     "execution_count": 7,
     "metadata": {},
     "output_type": "execute_result"
    }
   ],
   "source": [
    "topology = Forcefield.Amber.load_from_json(\"data/1ctf_amber_top.json\");\n",
    "function my_evaluator!(st::Common.State, do_forces::Bool)\n",
    "    energy = Forcefield.Amber.evaluate!(topology, st, cut_off=1.2, do_forces=do_forces)\n",
    "    return energy\n",
    "end"
   ]
  },
  {
   "cell_type": "markdown",
   "metadata": {},
   "source": [
    "## 6. Define the Driver\n",
    "\n",
    "At this point, the system is ready to run. A **Driver** is a predefined way of incorporating the **Sampler** and the **Evaluator** in order to take the system from one stage to the next, for a certain amount of steps. In the example, the MonteCarloDriver will be employed, that evaluates the system each step, returning to the previous conformation if the molecule energy does not pass the Metropolis Algorithm."
   ]
  },
  {
   "cell_type": "code",
   "execution_count": 8,
   "metadata": {},
   "outputs": [
    {
     "data": {
      "text/plain": [
       "MonteCarloDriver(sampler=my_sampler! evaluator=my_evaluator!, temperature=1.0, n_steps=100)"
      ]
     },
     "execution_count": 8,
     "metadata": {},
     "output_type": "execute_result"
    }
   ],
   "source": [
    "mc_driver = Drivers.MonteCarlo.MonteCarloDriver(my_sampler!, my_evaluator!, temperature=1.0, n_steps=100)"
   ]
  },
  {
   "cell_type": "markdown",
   "metadata": {},
   "source": [
    "## 7. (Optional) Define the Callbacks\n",
    "\n",
    "Altough the system is ready to run, no output is being printed. In order to gain access to the inner working of the **Driver** callbacks need to be defined. More than one **CallbackObject**s can be defined, with independent call frequencies and functions. For this example, two callbacks will be prepared:\n",
    "1. callback1 will be responsible to print the system status every 10 steps.\n",
    "2. callback2 will print the current structure to a .xyz file every 50 steps. As exemplification, this will be defined using the macro @Common.callback that reduices the amount of code needed to define a callback."
   ]
  },
  {
   "cell_type": "code",
   "execution_count": 9,
   "metadata": {},
   "outputs": [
    {
     "data": {
      "text/plain": [
       "CallbackObject(freq=10, callback=callback_status)"
      ]
     },
     "execution_count": 9,
     "metadata": {},
     "output_type": "execute_result"
    }
   ],
   "source": [
    "function callback_status(step::Int64, st::Common.State, dr::Drivers.MonteCarlo.MonteCarloDriver, args...)\n",
    "    write(stdout, @sprintf \"(MC) Step: %4d | Energy: %9.4f\\n\" step state.energy.eTotal)\n",
    "end\n",
    "callback1 = Common.CallbackObject(10, callback_status)"
   ]
  },
  {
   "cell_type": "code",
   "execution_count": 10,
   "metadata": {},
   "outputs": [
    {
     "data": {
      "text/plain": [
       "CallbackObject(freq=50, callback=callback_print)"
      ]
     },
     "execution_count": 10,
     "metadata": {},
     "output_type": "execute_result"
    }
   ],
   "source": [
    "file_xyz = open(\"out/trajectory.xyz\", \"w\");\n",
    "callback2 = @Common.callback 50 function callback_print(step::Int64, st::Common.State, dr::Drivers.MonteCarlo.MonteCarloDriver, args...)\n",
    "    Print.as_xyz(file_xyz, st, \"Step: $step\")\n",
    "end"
   ]
  },
  {
   "cell_type": "markdown",
   "metadata": {},
   "source": [
    "## 8. Make science!\n",
    "\n",
    "The set up of the system is complete, run the **Driver** and analyse the output!"
   ]
  },
  {
   "cell_type": "code",
   "execution_count": 11,
   "metadata": {},
   "outputs": [
    {
     "name": "stdout",
     "output_type": "stream",
     "text": [
      "(MC) Step:   10 | Energy: 140165612.4686\n",
      "(MC) Step:   20 | Energy: 140154803.4839\n",
      "(MC) Step:   30 | Energy: 2360574.6376\n",
      "(MC) Step:   40 | Energy: 2360518.7577\n",
      "(MC) Step:   50 | Energy: 2360059.0383\n",
      "(MC) Step:   60 | Energy: 2359680.7037\n",
      "(MC) Step:   70 | Energy: 2359468.7665\n",
      "(MC) Step:   80 | Energy: 2358884.8076\n",
      "(MC) Step:   90 | Energy: 159951.2504\n",
      "(MC) Step:  100 | Energy: 159749.7135\n"
     ]
    }
   ],
   "source": [
    "Drivers.MonteCarlo.run!(state, mc_driver, callback1, callback2)\n",
    "close(file_xyz)"
   ]
  },
  {
   "cell_type": "code",
   "execution_count": null,
   "metadata": {},
   "outputs": [],
   "source": []
  }
 ],
 "metadata": {
  "kernelspec": {
   "display_name": "Julia 1.0.0",
   "language": "julia",
   "name": "julia-1.0"
  },
  "language_info": {
   "file_extension": ".jl",
   "mimetype": "application/julia",
   "name": "julia",
   "version": "1.0.0"
  }
 },
 "nbformat": 4,
 "nbformat_minor": 2
}
