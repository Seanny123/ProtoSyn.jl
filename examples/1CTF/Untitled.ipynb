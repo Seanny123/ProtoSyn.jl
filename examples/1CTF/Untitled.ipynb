{
 "cells": [
  {
   "cell_type": "code",
   "execution_count": 1,
   "metadata": {},
   "outputs": [
    {
     "name": "stderr",
     "output_type": "stream",
     "text": [
      "┌ Info: Recompiling stale cache file /home/jpereira/.julia/compiled/v1.0/ProtoSyn/9uuO1.ji for ProtoSyn [092f5425-1474-5527-b419-6132197c7e30]\n",
      "└ @ Base loading.jl:1184\n"
     ]
    },
    {
     "data": {
      "text/html": [
       "<script src=\"https://hub.chemdoodle.com/cwc/latest/ChemDoodleWeb.js\"></script>\n",
       "<script charset=\"utf-8\" type='text/javascript'>\n",
       "window.CWC_WIDTH=600;\n",
       "window.CWC_HEIGHT=400;\n",
       "function set_chemdoodle_size(w,h) {\n",
       "    window.CWC_WIDTH = w;\n",
       "    window.CWC_HEIGHT = h;\n",
       "}\n",
       "</script>\n"
      ]
     },
     "metadata": {},
     "output_type": "display_data"
    }
   ],
   "source": [
    "using ProtoSyn\n",
    "using LinearAlgebra\n",
    "using Printf"
   ]
  },
  {
   "cell_type": "code",
   "execution_count": 6,
   "metadata": {},
   "outputs": [],
   "source": [
    "state = Common.load_from_pdb(\"data/1ctf.pdb\");\n",
    "state.energy = Forcefield.Amber.Energy();"
   ]
  },
  {
   "cell_type": "code",
   "execution_count": 4,
   "metadata": {},
   "outputs": [],
   "source": [
    "state.energy = Forcefield.Amber.Energy();"
   ]
  },
  {
   "cell_type": "code",
   "execution_count": null,
   "metadata": {},
   "outputs": [],
   "source": []
  }
 ],
 "metadata": {
  "kernelspec": {
   "display_name": "Julia 1.0.0",
   "language": "julia",
   "name": "julia-1.0"
  },
  "language_info": {
   "file_extension": ".jl",
   "mimetype": "application/julia",
   "name": "julia",
   "version": "1.0.0"
  }
 },
 "nbformat": 4,
 "nbformat_minor": 2
}
