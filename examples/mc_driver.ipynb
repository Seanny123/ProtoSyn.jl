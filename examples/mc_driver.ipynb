{
 "cells": [
  {
   "cell_type": "code",
   "execution_count": 14,
   "metadata": {},
   "outputs": [],
   "source": [
    "using ProtoSyn\n",
    "using Printf"
   ]
  },
  {
   "cell_type": "markdown",
   "metadata": {},
   "source": [
    "## **1. data**\n",
    "\n",
    "1. load dihedrals definitions\n",
    "2. load state"
   ]
  },
  {
   "cell_type": "code",
   "execution_count": 22,
   "metadata": {},
   "outputs": [],
   "source": [
    "dihd_json = Aux.read_JSON(\"data/1ctf_mc_top.json\")\n",
    "dihedrals, residues = Mutators.Dihedral.load_topology(dihd_json);\n",
    "\n",
    "state = Common.load_from_pdb(\"data/mol.pdb\")\n",
    "state.energy = Common.Energy();"
   ]
  },
  {
   "cell_type": "markdown",
   "metadata": {},
   "source": [
    "## **2. function definitions**\n",
    "\n",
    "### **2.1 sampler**"
   ]
  },
  {
   "cell_type": "code",
   "execution_count": 23,
   "metadata": {},
   "outputs": [],
   "source": [
    "dihedral_mutator = Mutators.Dihedral.DihedralMutator(\n",
    "    dihedrals   # list of dihedrals\n",
    "    , 0.1       # single dihedral mutation probability\n",
    "    , randn     # angle sampler\n",
    "    , 1.0       # stepsize\n",
    ")\n",
    "my_sampler(st::Common.State) = Mutators.Dihedral.run!(st, dihedral_mutator);"
   ]
  },
  {
   "cell_type": "markdown",
   "metadata": {},
   "source": [
    "### **2.2 evaluator**"
   ]
  },
  {
   "cell_type": "code",
   "execution_count": 24,
   "metadata": {},
   "outputs": [],
   "source": [
    "function my_evaluator(st::Common.State, do_forces::Bool)\n",
    "    st.energy.eTotal\n",
    "end;"
   ]
  },
  {
   "cell_type": "markdown",
   "metadata": {},
   "source": [
    "### **2.3 MC driver**"
   ]
  },
  {
   "cell_type": "code",
   "execution_count": 25,
   "metadata": {},
   "outputs": [],
   "source": [
    "mc_driver = Drivers.MonteCarlo.MonteCarloDriver(\n",
    "    my_sampler      # sampler\n",
    "    , my_evaluator  # evaluator\n",
    "    , 1.0           # temperature\n",
    "    , 1000          # nsteps\n",
    ");"
   ]
  },
  {
   "cell_type": "markdown",
   "metadata": {},
   "source": [
    "### **2.4 callback**\n",
    "\n",
    "This function is used to:\n",
    "1. control the driver's output\n",
    "2. update the mutator's stepsize"
   ]
  },
  {
   "cell_type": "code",
   "execution_count": 1,
   "metadata": {},
   "outputs": [
    {
     "ename": "LoadError",
     "evalue": "UndefVarError: @sprintf not defined",
     "output_type": "error",
     "traceback": [
      "UndefVarError: @sprintf not defined",
      ""
     ]
    }
   ],
   "source": [
    "function callback(step::Int64, st::Common.State, dr::Drivers.MonteCarlo.MonteCarloDriver, ac_ratio::Float64)\n",
    "    write(stdout, @sprintf \"(MC) Step: %4d | Energy: %9.4f\\n\" step state.energy.eTotal)\n",
    "    dihedral_mutator.stepsize *= 0.95\n",
    "end\n",
    "\n",
    "my_callback = Common.CallbackObject(\n",
    "    100          # calling frequency\n",
    "    , callback  # the actual callback function\n",
    ");\n",
    "\n",
    "\n",
    "\n",
    "cb = @callback 10 function(step::Int64, st::Common.State, dr::Drivers.MonteCarlo.MonteCarloDriver, naccept::Int64)\n",
    "    # do something\n",
    "    println(\"do something\")\n",
    "end"
   ]
  },
  {
   "cell_type": "markdown",
   "metadata": {},
   "source": [
    "## **3. run**"
   ]
  },
  {
   "cell_type": "code",
   "execution_count": 32,
   "metadata": {},
   "outputs": [
    {
     "name": "stdout",
     "output_type": "stream",
     "text": [
      "(MC) Step:  100 | Energy:    0.0000\n",
      "(MC) Step:  200 | Energy:    0.0000\n",
      "(MC) Step:  300 | Energy:    0.0000\n",
      "(MC) Step:  400 | Energy:    0.0000\n",
      "(MC) Step:  500 | Energy:    0.0000\n",
      "(MC) Step:  600 | Energy:    0.0000\n",
      "(MC) Step:  700 | Energy:    0.0000\n",
      "(MC) Step:  800 | Energy:    0.0000\n",
      "(MC) Step:  900 | Energy:    0.0000\n",
      "(MC) Step: 1000 | Energy:    0.0000\n"
     ]
    }
   ],
   "source": [
    "Drivers.MonteCarlo.run!(state, mc_driver, my_callback)"
   ]
  },
  {
   "cell_type": "code",
   "execution_count": 2,
   "metadata": {},
   "outputs": [
    {
     "ename": "ArgumentError",
     "evalue": "ArgumentError: Package PyPlot not found in current path:\n- Run `Pkg.add(\"PyPlot\")` to install the PyPlot package.\n",
     "output_type": "error",
     "traceback": [
      "ArgumentError: Package PyPlot not found in current path:\n- Run `Pkg.add(\"PyPlot\")` to install the PyPlot package.\n",
      "",
      "Stacktrace:",
      " [1] require(::Module, ::Symbol) at ./loading.jl:817",
      " [2] top-level scope at In[2]:1"
     ]
    }
   ],
   "source": [
    "using PyPlot"
   ]
  },
  {
   "cell_type": "code",
   "execution_count": null,
   "metadata": {},
   "outputs": [],
   "source": []
  }
 ],
 "metadata": {
  "kernelspec": {
   "display_name": "Julia 1.0.0",
   "language": "julia",
   "name": "julia-1.0"
  },
  "language_info": {
   "file_extension": ".jl",
   "mimetype": "application/julia",
   "name": "julia",
   "version": "1.0.0"
  }
 },
 "nbformat": 4,
 "nbformat_minor": 2
}
